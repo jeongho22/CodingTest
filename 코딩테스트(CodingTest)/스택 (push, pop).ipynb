{
 "cells": [
  {
   "cell_type": "code",
   "execution_count": 68,
   "id": "dad236a9",
   "metadata": {},
   "outputs": [],
   "source": [
    "def stack(data):\n",
    "    if data <0:\n",
    "        print(\"마무리\")\n",
    "    else:\n",
    "        print(data)\n",
    "        stack(data-1)\n",
    "        print(data, \"이 빠져나감\")\n",
    "        \n",
    "# 재귀함수 기반으로 사용되어짐"
   ]
  },
  {
   "cell_type": "code",
   "execution_count": 69,
   "id": "97969bd5",
   "metadata": {},
   "outputs": [
    {
     "name": "stdout",
     "output_type": "stream",
     "text": [
      "4\n",
      "3\n",
      "2\n",
      "1\n",
      "0\n",
      "마무리\n",
      "0 이 빠져나감\n",
      "1 이 빠져나감\n",
      "2 이 빠져나감\n",
      "3 이 빠져나감\n",
      "4 이 빠져나감\n"
     ]
    }
   ],
   "source": [
    "stack(4)\n",
    "\n",
    "# 나갈때는 반대로 나감\n",
    "# 43210 -> 01234"
   ]
  },
  {
   "cell_type": "code",
   "execution_count": 70,
   "id": "596d0ad7",
   "metadata": {},
   "outputs": [],
   "source": [
    "#위에처럼 해도되지만 파이썬 라이브러리 pop, push(append) 가 있음"
   ]
  },
  {
   "cell_type": "code",
   "execution_count": 71,
   "id": "329c5958",
   "metadata": {},
   "outputs": [],
   "source": [
    "stack= list()"
   ]
  },
  {
   "cell_type": "code",
   "execution_count": 72,
   "id": "756a503c",
   "metadata": {},
   "outputs": [],
   "source": [
    "stack.append(1)\n",
    "stack.append(2)\n",
    "stack.append(3)"
   ]
  },
  {
   "cell_type": "code",
   "execution_count": 73,
   "id": "cf63dc9c",
   "metadata": {},
   "outputs": [
    {
     "name": "stdout",
     "output_type": "stream",
     "text": [
      "[1, 2, 3]\n"
     ]
    }
   ],
   "source": [
    "print(stack)"
   ]
  },
  {
   "cell_type": "code",
   "execution_count": 74,
   "id": "cdbeff2e",
   "metadata": {},
   "outputs": [
    {
     "data": {
      "text/plain": [
       "3"
      ]
     },
     "execution_count": 74,
     "metadata": {},
     "output_type": "execute_result"
    }
   ],
   "source": [
    "stack.pop()"
   ]
  },
  {
   "cell_type": "code",
   "execution_count": 75,
   "id": "f427f634",
   "metadata": {},
   "outputs": [
    {
     "name": "stdout",
     "output_type": "stream",
     "text": [
      "[1, 2]\n"
     ]
    }
   ],
   "source": [
    "print(stack)"
   ]
  },
  {
   "cell_type": "code",
   "execution_count": 76,
   "id": "b00c0bad",
   "metadata": {},
   "outputs": [
    {
     "data": {
      "text/plain": [
       "2"
      ]
     },
     "execution_count": 76,
     "metadata": {},
     "output_type": "execute_result"
    }
   ],
   "source": [
    "stack.pop()"
   ]
  },
  {
   "cell_type": "code",
   "execution_count": 77,
   "id": "93446f7d",
   "metadata": {},
   "outputs": [
    {
     "name": "stdout",
     "output_type": "stream",
     "text": [
      "[1]\n"
     ]
    }
   ],
   "source": [
    "print(stack)"
   ]
  },
  {
   "cell_type": "code",
   "execution_count": 78,
   "id": "272ff80a",
   "metadata": {},
   "outputs": [
    {
     "data": {
      "text/plain": [
       "1"
      ]
     },
     "execution_count": 78,
     "metadata": {},
     "output_type": "execute_result"
    }
   ],
   "source": [
    "stack.pop()"
   ]
  },
  {
   "cell_type": "code",
   "execution_count": 79,
   "id": "dfd817d2",
   "metadata": {},
   "outputs": [
    {
     "name": "stdout",
     "output_type": "stream",
     "text": [
      "[]\n"
     ]
    }
   ],
   "source": [
    "print(stack)"
   ]
  },
  {
   "cell_type": "code",
   "execution_count": 80,
   "id": "c3549417",
   "metadata": {},
   "outputs": [],
   "source": [
    "## 프로그래밍 pop, push 만들기"
   ]
  },
  {
   "cell_type": "code",
   "execution_count": 127,
   "id": "112d6dc5",
   "metadata": {},
   "outputs": [],
   "source": [
    "stack = list()\n",
    "\n",
    "def push(data):\n",
    "    stack.append(data)\n",
    "    \n",
    "def pop():\n",
    "    data = stack[-1]\n",
    "#     뒤에서 마지막꺼 가져옴\n",
    "    del stack[-1]\n",
    "#     뒤에서 마지막꺼 삭제\n",
    "    return \n",
    "    "
   ]
  },
  {
   "cell_type": "code",
   "execution_count": 128,
   "id": "4f4e65cc",
   "metadata": {},
   "outputs": [],
   "source": [
    "for i in range(10):\n",
    "    push(i)"
   ]
  },
  {
   "cell_type": "code",
   "execution_count": 129,
   "id": "805ad077",
   "metadata": {},
   "outputs": [
    {
     "name": "stdout",
     "output_type": "stream",
     "text": [
      "[0, 1, 2, 3, 4, 5, 6, 7, 8, 9]\n"
     ]
    }
   ],
   "source": [
    "print(stack) \n",
    "# 0 부터 9까지 넣음"
   ]
  },
  {
   "cell_type": "code",
   "execution_count": 130,
   "id": "84e538f4",
   "metadata": {},
   "outputs": [],
   "source": [
    "for i in range(4):\n",
    "    pop()\n",
    "# 9 , 8, 7, 6 삭제"
   ]
  },
  {
   "cell_type": "code",
   "execution_count": 131,
   "id": "e65eeed1",
   "metadata": {},
   "outputs": [
    {
     "name": "stdout",
     "output_type": "stream",
     "text": [
      "[0, 1, 2, 3, 4, 5]\n"
     ]
    }
   ],
   "source": [
    "print(stack)"
   ]
  },
  {
   "cell_type": "code",
   "execution_count": 132,
   "id": "33d52e11",
   "metadata": {},
   "outputs": [],
   "source": [
    "pop()"
   ]
  },
  {
   "cell_type": "code",
   "execution_count": 133,
   "id": "f5ce19cb",
   "metadata": {},
   "outputs": [
    {
     "name": "stdout",
     "output_type": "stream",
     "text": [
      "[0, 1, 2, 3, 4]\n"
     ]
    }
   ],
   "source": [
    "print(stack)"
   ]
  },
  {
   "cell_type": "code",
   "execution_count": 134,
   "id": "1386dc10",
   "metadata": {},
   "outputs": [],
   "source": [
    "push(5)"
   ]
  },
  {
   "cell_type": "code",
   "execution_count": 135,
   "id": "2694ffc4",
   "metadata": {},
   "outputs": [
    {
     "name": "stdout",
     "output_type": "stream",
     "text": [
      "[0, 1, 2, 3, 4, 5]\n"
     ]
    }
   ],
   "source": [
    "print(stack)"
   ]
  },
  {
   "cell_type": "code",
   "execution_count": null,
   "id": "48bb8e2c",
   "metadata": {},
   "outputs": [],
   "source": []
  }
 ],
 "metadata": {
  "kernelspec": {
   "display_name": "Python 3 (ipykernel)",
   "language": "python",
   "name": "python3"
  },
  "language_info": {
   "codemirror_mode": {
    "name": "ipython",
    "version": 3
   },
   "file_extension": ".py",
   "mimetype": "text/x-python",
   "name": "python",
   "nbconvert_exporter": "python",
   "pygments_lexer": "ipython3",
   "version": "3.11.5"
  }
 },
 "nbformat": 4,
 "nbformat_minor": 5
}
