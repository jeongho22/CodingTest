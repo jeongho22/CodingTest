{
 "cells": [
  {
   "cell_type": "code",
   "execution_count": 1,
   "id": "f53d3f93",
   "metadata": {},
   "outputs": [],
   "source": [
    "# 노드 클래스 만들기 \n",
    "\n",
    "class Node:\n",
    "    def __init__(self,data,next=None):\n",
    "            self.data = data\n",
    "            self.next = next\n"
   ]
  },
  {
   "cell_type": "code",
   "execution_count": 2,
   "id": "7521e7f6",
   "metadata": {},
   "outputs": [],
   "source": [
    "# 노드 클래스 만들기 \n",
    "\n",
    "class Node:\n",
    "    def __init__(self,data,next=None):\n",
    "            self.data = data\n",
    "            self.next = next\n",
    "\n",
    "\n",
    "def add(data):\n",
    "    node = head\n",
    "    while node.next:\n",
    "        node = node.next\n",
    "    node.next = Node(data)\n"
   ]
  },
  {
   "cell_type": "code",
   "execution_count": 3,
   "id": "44ccf378",
   "metadata": {},
   "outputs": [],
   "source": [
    "# 노드 만들기, 헤더노드 선언해주기 , 노드 여러개만들기 \n",
    "\n",
    "node= Node(1)\n",
    "head= node\n",
    "\n",
    "for i in range(2,10):\n",
    "    add(i)"
   ]
  },
  {
   "cell_type": "code",
   "execution_count": 4,
   "id": "08dd9f43",
   "metadata": {},
   "outputs": [
    {
     "name": "stdout",
     "output_type": "stream",
     "text": [
      "1\n",
      "2\n",
      "3\n",
      "4\n",
      "5\n",
      "6\n",
      "7\n",
      "8\n",
      "9\n"
     ]
    }
   ],
   "source": [
    "# 첫번째 노드 선언해주기 # 노드반복 # 잘 연결되어있는지 확인 \n",
    "\n",
    "node = head\n",
    "\n",
    "while node.next:\n",
    "    print(node.data)\n",
    "    node= node.next\n",
    "print(node.data)"
   ]
  },
  {
   "cell_type": "code",
   "execution_count": 6,
   "id": "f923621e",
   "metadata": {},
   "outputs": [],
   "source": [
    "# 3과 4사이에 100값을 넣어 연결해주고싶을때.\n",
    "\n",
    "node1 = Node(3.50)"
   ]
  },
  {
   "cell_type": "code",
   "execution_count": 7,
   "id": "442f9dc1",
   "metadata": {},
   "outputs": [],
   "source": [
    "node = head\n",
    "\n",
    "search = True\n",
    "\n",
    "while search:\n",
    "    if node.data == 3:\n",
    "        search = False\n",
    "    else:\n",
    "        node = node.next\n",
    "        \n",
    "        \n",
    "\n",
    "node_next = node.next\n",
    "node.next = node1\n",
    "node1.next= node_next\n",
    "            \n",
    "\n"
   ]
  },
  {
   "cell_type": "code",
   "execution_count": 8,
   "id": "52062c23",
   "metadata": {},
   "outputs": [
    {
     "name": "stdout",
     "output_type": "stream",
     "text": [
      "1\n",
      "2\n",
      "3\n",
      "3.5\n",
      "4\n",
      "5\n",
      "6\n",
      "7\n",
      "8\n",
      "9\n"
     ]
    }
   ],
   "source": [
    "\n",
    "node = head\n",
    "while node.next:\n",
    "    print(node.data)\n",
    "    node = node.next\n",
    "print (node.data)"
   ]
  },
  {
   "cell_type": "code",
   "execution_count": 124,
   "id": "f4c26293",
   "metadata": {},
   "outputs": [],
   "source": [
    "# Node 클래스를 정의하며, 생성자는 데이터(data)와 다음 노드를 가리키는 포인터(next)를 초기화합니다. (기본값은 None)\n",
    "class Node:\n",
    "    def __init__(self, data, next=None):\n",
    "        self.data = data\n",
    "        self.next = next\n",
    "\n",
    "# NodeMgmt 클래스를 정의하며, 생성자는 헤드 노드를 초기화합니다.\n",
    "class NodeMgmt:\n",
    "    def __init__(self, data):\n",
    "        # 주어진 데이터로 헤드 노드를 설정합니다.\n",
    "        self.head = Node(data)\n",
    "\n",
    "    # 링크드 리스트에 주어진 데이터를 갖는 새로운 노드를 추가하는 메서드를 정의합니다.\n",
    "    def add(self, data):\n",
    "        # 링크드 리스트가 비어있으면 새로운 노드를 헤드로 생성합니다.\n",
    "        if self.head == '':\n",
    "            self.head = Node(data)\n",
    "        else:\n",
    "            # 링크드 리스트를 순회하여 마지막 노드를 찾고 새로운 노드를 추가합니다.\n",
    "            node = self.head\n",
    "            while node.next:\n",
    "                node = node.next\n",
    "            node.next = Node(data)\n",
    "            \n",
    "            \n",
    "    def desc(self):\n",
    "        node = self.head\n",
    "        while node:\n",
    "            print(node.data)       ##5. 막힘 \n",
    "            node = node.next       ##6. 막힘\n",
    "    \n",
    "    def delete(self,data):\n",
    "        if self.head == '':\n",
    "            print(\"노드가 없음\")\n",
    "        return\n",
    "    \n",
    "        if self.head.data == data:  ## 7.여기서 막힘\n",
    "            temp = self.head\n",
    "            self.head = self.head.next\n",
    "            del tmep\n",
    "            \n",
    "        else:\n",
    "            node = self.head\n",
    "            while node.next:         ##8. 여기서 막힘 \n",
    "                if node.next.data == data:\n",
    "                    temp = node.next\n",
    "                    node.next = node.next.next\n",
    "                    del temp\n",
    "                    return\n",
    "                else :\n",
    "                    node =node.next\n",
    "            \n",
    "            \n",
    "        "
   ]
  },
  {
   "cell_type": "code",
   "execution_count": 125,
   "id": "fc26adfa",
   "metadata": {},
   "outputs": [],
   "source": [
    "# # Node 클래스를 정의하며, 생성자는 데이터(data)와 다음 노드를 가리키는 포인터(next)를 초기화합니다. (기본값은 None)\n",
    "# class Node:\n",
    "#     def __init__(self, data, next=None):\n",
    "#         self.data = data\n",
    "#         self.next = next\n",
    "\n",
    "# # NodeMgmt 클래스를 정의하며, 생성자는 헤드 노드를 초기화합니다.\n",
    "# class NodeMgmt:\n",
    "#     def __init__(self, data):\n",
    "#         # 주어진 데이터로 헤드 노드를 설정합니다.\n",
    "#         self.head = Node(data)\n",
    "\n",
    "#     # 링크드 리스트에 주어진 데이터를 갖는 새로운 노드를 추가하는 메서드를 정의합니다.\n",
    "#     def add(self, data):\n",
    "#         # 링크드 리스트가 비어있으면 새로운 노드를 헤드로 생성합니다.\n",
    "#         if self.head == '':\n",
    "#             self.head = Node(data)\n",
    "#         else:\n",
    "#             # 링크드 리스트를 순회하여 마지막 노드를 찾고 새로운 노드를 추가합니다.\n",
    "#             node = self.head\n",
    "#             while node.next:\n",
    "#                 node = node.next\n",
    "#             node.next = Node(data)\n",
    "\n",
    "#     # 링크드 리스트의 모든 노드의 데이터를 출력하는 메서드를 정의합니다.\n",
    "#     def desc(self):\n",
    "#         node = self.head\n",
    "#         while node:\n",
    "#             print(node.data)\n",
    "#             node = node.next  # 다음 노드로 이동합니다.\n",
    "\n",
    "#     # 주어진 데이터를 갖는 노드를 링크드 리스트에서 삭제하는 메서드를 정의합니다.\n",
    "#     def delete(self, data):\n",
    "#         # 링크드 리스트가 비어있는지 확인합니다.\n",
    "#         if self.head == \"\":\n",
    "#             print(\"해당 값을 가진 노드가 없습니다.\")\n",
    "#             return\n",
    "\n",
    "#         # 헤드 노드가 삭제하려는 데이터를 포함하고 있다면 헤드를 업데이트합니다.\n",
    "#         if self.head.data == data:\n",
    "#             temp = self.head\n",
    "#             self.head = self.head.next\n",
    "#             del temp  # 이전 헤드를 삭제합니다.\n",
    "\n",
    "#         else:\n",
    "#             # 링크드 리스트를 순회하여 지정된 데이터를 포함한 노드를 찾습니다.\n",
    "#             node = self.head\n",
    "#             while node.next:\n",
    "#                 # 다음 노드가 삭제하려는 데이터를 포함하고 있다면 포인터를 업데이트합니다.\n",
    "#                 if node.next.data == data:\n",
    "#                     temp = node.next\n",
    "#                     node.next = node.next.next\n",
    "#                     del temp  # 지정된 데이터를 갖는 노드를 삭제합니다.\n",
    "#                     return\n",
    "\n",
    "#                 else:\n",
    "#                     node = node.next  # 현재 노드가 데이터를 포함하지 않으면 다음 노드로 이동합니다.\n"
   ]
  },
  {
   "cell_type": "code",
   "execution_count": 126,
   "id": "c2bb6c9d",
   "metadata": {},
   "outputs": [
    {
     "name": "stdout",
     "output_type": "stream",
     "text": [
      "0\n"
     ]
    }
   ],
   "source": [
    "linkedlist1 = NodeMgmt(0)\n",
    "linkedlist1.desc()"
   ]
  },
  {
   "cell_type": "code",
   "execution_count": 127,
   "id": "aa1183a4",
   "metadata": {},
   "outputs": [],
   "source": [
    "for i in range(1,10):\n",
    "    linkedlist1.add(i)"
   ]
  },
  {
   "cell_type": "code",
   "execution_count": 128,
   "id": "4d85766d",
   "metadata": {},
   "outputs": [
    {
     "name": "stdout",
     "output_type": "stream",
     "text": [
      "0\n",
      "1\n",
      "2\n",
      "3\n",
      "4\n",
      "5\n",
      "6\n",
      "7\n",
      "8\n",
      "9\n"
     ]
    }
   ],
   "source": [
    "linkedlist1.desc()"
   ]
  },
  {
   "cell_type": "code",
   "execution_count": 129,
   "id": "e9da4e70",
   "metadata": {},
   "outputs": [],
   "source": [
    "linkedlist1.delete(5)"
   ]
  },
  {
   "cell_type": "code",
   "execution_count": 130,
   "id": "0ef83ba4",
   "metadata": {},
   "outputs": [
    {
     "name": "stdout",
     "output_type": "stream",
     "text": [
      "0\n",
      "1\n",
      "2\n",
      "3\n",
      "4\n",
      "5\n",
      "6\n",
      "7\n",
      "8\n",
      "9\n"
     ]
    }
   ],
   "source": [
    "linkedlist1.desc()"
   ]
  },
  {
   "cell_type": "code",
   "execution_count": null,
   "id": "7fae3cc3",
   "metadata": {},
   "outputs": [],
   "source": []
  },
  {
   "cell_type": "code",
   "execution_count": null,
   "id": "0e47cbc1",
   "metadata": {},
   "outputs": [],
   "source": []
  },
  {
   "cell_type": "code",
   "execution_count": null,
   "id": "149d9c09",
   "metadata": {},
   "outputs": [],
   "source": []
  }
 ],
 "metadata": {
  "kernelspec": {
   "display_name": "Python 3 (ipykernel)",
   "language": "python",
   "name": "python3"
  },
  "language_info": {
   "codemirror_mode": {
    "name": "ipython",
    "version": 3
   },
   "file_extension": ".py",
   "mimetype": "text/x-python",
   "name": "python",
   "nbconvert_exporter": "python",
   "pygments_lexer": "ipython3",
   "version": "3.11.5"
  }
 },
 "nbformat": 4,
 "nbformat_minor": 5
}
