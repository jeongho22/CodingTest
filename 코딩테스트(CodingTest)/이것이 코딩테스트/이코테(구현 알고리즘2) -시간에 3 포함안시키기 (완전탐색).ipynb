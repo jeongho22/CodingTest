{
 "cells": [
  {
   "cell_type": "markdown",
   "id": "00896f5c",
   "metadata": {},
   "source": [
    "# 3이 포함 안되는 경우"
   ]
  },
  {
   "cell_type": "code",
   "execution_count": 15,
   "id": "36eab73f",
   "metadata": {},
   "outputs": [
    {
     "name": "stdout",
     "output_type": "stream",
     "text": [
      "10\n",
      "20250\n"
     ]
    }
   ],
   "source": [
    "# 3이 포함 안되는 경우 \n",
    "\n",
    "            \n",
    "            \n",
    "n = int(input())\n",
    "count = 0\n",
    "\n",
    "for i in range(n+1):  # 0부터 n까지 숫자 생성\n",
    "    if '3' in str(i):\n",
    "        continue\n",
    "    for j in range(60):\n",
    "        if '3' in str(j):\n",
    "            continue\n",
    "        for k in range(60):\n",
    "            if '3' in str(k):\n",
    "                continue\n",
    "            count += 1\n",
    "\n",
    "print(count)\n",
    "\n",
    "\n",
    "    "
   ]
  },
  {
   "cell_type": "code",
   "execution_count": 14,
   "id": "f1aa7d73",
   "metadata": {},
   "outputs": [
    {
     "name": "stdout",
     "output_type": "stream",
     "text": [
      "10\n",
      "20250\n"
     ]
    }
   ],
   "source": [
    "## 12/18일 복습완료\n",
    "\n",
    "\n",
    "n = int(input())\n",
    "\n",
    "count =0 \n",
    "\n",
    "for i in range(n+1):\n",
    "    if \"3\" in str(i):\n",
    "        continue\n",
    "    for j in range(60):\n",
    "        if \"3\" in str(j):\n",
    "            continue\n",
    "        for k in range(60):\n",
    "            if \"3\" in str(k):\n",
    "                continue\n",
    "                        \n",
    "            count+=1\n",
    "                        \n",
    "print(count)"
   ]
  },
  {
   "cell_type": "code",
   "execution_count": 23,
   "id": "0008db55",
   "metadata": {},
   "outputs": [
    {
     "name": "stdout",
     "output_type": "stream",
     "text": [
      "1\n",
      "3150\n"
     ]
    }
   ],
   "source": [
    "## 시분초 12/18 복습완료 \n",
    "\n",
    "\n",
    "n = int(input())\n",
    "\n",
    "count= 0 \n",
    "\n",
    "for i in range(n+1):\n",
    "    for j in range(60):\n",
    "        for k in range(60):\n",
    "            if \"3\" in str(i) or \"3\" in str(j) or  \"3\" in str(k):\n",
    "                count+=1\n",
    "\n",
    "\n",
    "print(count)\n",
    "\n"
   ]
  },
  {
   "cell_type": "markdown",
   "id": "334b961c",
   "metadata": {},
   "source": [
    "# 3이 포함되는 경우 "
   ]
  },
  {
   "cell_type": "code",
   "execution_count": 19,
   "id": "edc5c24b",
   "metadata": {},
   "outputs": [
    {
     "name": "stdout",
     "output_type": "stream",
     "text": [
      "1\n",
      "3150\n"
     ]
    }
   ],
   "source": [
    "count = 0\n",
    "n = int(input())\n",
    "    \n",
    "for i in range(n+1):  # 0부터 n까지 숫자 생성\n",
    "    for j in range(60):\n",
    "        for k in range(60):\n",
    "            # 시, 분, 또는 초 중 어느 하나라도 '3'을 포함하면 카운트\n",
    "            if '3' in str(i) or '3' in str(j) or '3' in str(k):\n",
    "                count += 1\n",
    "                    \n",
    "print(count)"
   ]
  },
  {
   "cell_type": "markdown",
   "id": "fb03690d",
   "metadata": {},
   "source": [
    "# 15강 나이트 문제 다시 해보기... 이해가 어렵"
   ]
  },
  {
   "cell_type": "code",
   "execution_count": 35,
   "id": "b97f1f49",
   "metadata": {},
   "outputs": [
    {
     "name": "stdout",
     "output_type": "stream",
     "text": [
      "10\n",
      "0\n"
     ]
    }
   ],
   "source": [
    "# # 현재 나이트의 위치 입력 받기 \n",
    "\n",
    "# input_data = input()\n",
    "# row = int(input_data[1])\n",
    "# column = int(ord(input_data[0])) - int(ord(\"a\")) + 1\n",
    "\n",
    "\n",
    "# # 나이트가 이동할 수 있는 방향 8가지 정의\n",
    "\n",
    "# steps= [(-2,-1),(-1,-2),(1,-2),(2,-1),(2,1),(1,2),(-1,2),(-2,1)]\n",
    "\n",
    "\n",
    "# # 8가지 방향으로 이동이 가능한지 확인 \n",
    "\n",
    "# result = 0\n",
    "# for step in steps:\n",
    "    \n",
    "#     # 이동하고자 하는 위치\n",
    "#     next_row = row + step[0]\n",
    "#     next_column = column+ step[1]\n",
    "    \n",
    "#     # 해당 위치로 이동이 가능하면 카운트 증가 \n",
    "#     if next_row >=1 and next_row <=8 and next_column >=1 and next_column<=8:\n",
    "#         result+=1\n",
    "        \n",
    "# print(result)\n",
    "\n"
   ]
  },
  {
   "cell_type": "markdown",
   "id": "028da44d",
   "metadata": {},
   "source": [
    "# 알파벳 정렬 + 숫자 더하기"
   ]
  },
  {
   "cell_type": "code",
   "execution_count": 27,
   "id": "d92e9cde",
   "metadata": {},
   "outputs": [
    {
     "name": "stdout",
     "output_type": "stream",
     "text": [
      "dfs3223\n",
      "['d', 'f', 's', '10']\n",
      "dfs10\n"
     ]
    }
   ],
   "source": [
    "#1. 입력 \n",
    "data = input()\n",
    "\n",
    "#2. 리스트 생성\n",
    "result = []\n",
    "\n",
    "#3. 숫자 초기화 \n",
    "num = 0\n",
    "\n",
    "\n",
    "#4. 데이터를 입력하는데 x에 뭐가 들어올지는 모르겠지만 문자면 result에추가\n",
    "#   아니면 num에 숫자를 더한다 \n",
    "for x in data:\n",
    "    if x.isalpha():\n",
    "        result.append(x)\n",
    "    else : \n",
    "        num += int(x)\n",
    "\n",
    "    \n",
    "# print(result)\n",
    "# print(num)\n",
    "\n",
    "\n",
    "#5. 정렬하기 \n",
    "result.sort()\n",
    "# print(result)\n",
    "\n",
    "\n",
    "#6. 만약에 숫자가 0이 아니면 끝에 숫자를 문자열로 더해준다.\n",
    "if num !=0:\n",
    "    result.append(str(num))\n",
    "\n",
    "print(result)\n",
    "\n",
    "print(\"\".join(result))"
   ]
  },
  {
   "cell_type": "code",
   "execution_count": null,
   "id": "52b0ae23",
   "metadata": {},
   "outputs": [],
   "source": []
  }
 ],
 "metadata": {
  "kernelspec": {
   "display_name": "Python 3 (ipykernel)",
   "language": "python",
   "name": "python3"
  },
  "language_info": {
   "codemirror_mode": {
    "name": "ipython",
    "version": 3
   },
   "file_extension": ".py",
   "mimetype": "text/x-python",
   "name": "python",
   "nbconvert_exporter": "python",
   "pygments_lexer": "ipython3",
   "version": "3.11.5"
  }
 },
 "nbformat": 4,
 "nbformat_minor": 5
}
