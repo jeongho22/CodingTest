{
 "cells": [
  {
   "cell_type": "code",
   "execution_count": 9,
   "id": "dc3a98d8",
   "metadata": {},
   "outputs": [
    {
     "name": "stdout",
     "output_type": "stream",
     "text": [
      "60\n",
      "100\n",
      "245\n",
      "64\n"
     ]
    }
   ],
   "source": [
    "\n",
    "\n",
    "n= int(input())\n",
    "m= int(input())\n",
    "\n",
    "sq=[]\n",
    "\n",
    "for i in range(n,m+1):\n",
    "    \n",
    "    T = int((i**0.5)) **2 ## 이게 포인트\n",
    "    \n",
    "    if i == T:\n",
    "        sq.append(T)\n",
    "\n",
    "        \n",
    "if sq:\n",
    "    print(sum(sq))\n",
    "    print(min(sq))\n",
    "else:\n",
    "    print(-1)"
   ]
  },
  {
   "cell_type": "code",
   "execution_count": 32,
   "id": "7bd55e17",
   "metadata": {},
   "outputs": [
    {
     "name": "stdout",
     "output_type": "stream",
     "text": [
      "2\n",
      "2\n",
      "10 re\n",
      "20 nd\n",
      "2\n",
      "30 fu\n",
      "40 ew\n",
      "nd\n",
      "ew\n"
     ]
    }
   ],
   "source": [
    "result = []\n",
    "n = int(input())\n",
    "for i in range(n):\n",
    "    name = []\n",
    "    price = []\n",
    "    p = int(input())\n",
    "    \n",
    "    for j in range(p):\n",
    "        a, b = input().split()\n",
    "        price.append(a)\n",
    "        name.append(b)\n",
    "        \n",
    "    for k in range(p):\n",
    "        if price[k]==max(price):\n",
    "            result.append(name[k])\n",
    "            \n",
    "            \n",
    "for l in range(n):\n",
    "     print(result[l])\n",
    "    "
   ]
  },
  {
   "cell_type": "code",
   "execution_count": 64,
   "id": "57ef374d",
   "metadata": {},
   "outputs": [
    {
     "name": "stdout",
     "output_type": "stream",
     "text": [
      "2\n",
      "권유정 26 8 2001\n",
      "김정호 29 1 1994\n",
      "['권유정', 26, 8, 2001]\n",
      "['권유정', 26, 8, 2001]\n",
      "권유정\n",
      "김정호\n"
     ]
    }
   ],
   "source": [
    "s = int(input())\n",
    "\n",
    "\n",
    "result=[]\n",
    "\n",
    "\n",
    "for _ in range(s):\n",
    "    n,m,k,z = input().split()\n",
    "    \n",
    "    result.append([n,int(m),int(k),int(z)])\n",
    "    \n",
    "\n",
    "# 나이가 가장 많은 사람을 찾기 위한 초기화\n",
    "oldest = result[0]\n",
    "print(oldest)\n",
    "# 나이가 가장 적은 사람을 찾기 위한 초기화\n",
    "youngest = result[0]\n",
    "print(youngest)\n",
    "    \n",
    "for i in result:\n",
    "    \n",
    "    if(i[3],i[2],i[1]) < (oldest[3], oldest[2], oldest[1]):\n",
    "        oldest = i\n",
    "        \n",
    "    if(i[3],i[2],i[1]) > (youngest[3], youngest[2], youngest[1]):\n",
    "        youngest = i\n",
    "        \n",
    "\n",
    "print(youngest[0])\n",
    "print(oldest[0])"
   ]
  },
  {
   "cell_type": "code",
   "execution_count": 68,
   "id": "67a47356",
   "metadata": {},
   "outputs": [
    {
     "name": "stdout",
     "output_type": "stream",
     "text": [
      "5\n",
      "1\n",
      "2\n",
      "3\n",
      "4\n",
      "5\n"
     ]
    }
   ],
   "source": [
    "n = int(input())\n",
    "\n",
    "\n",
    "for i in range(n):\n",
    "    print(i+1)"
   ]
  },
  {
   "cell_type": "code",
   "execution_count": 74,
   "id": "a86198a0",
   "metadata": {},
   "outputs": [
    {
     "name": "stdout",
     "output_type": "stream",
     "text": [
      "5\n",
      "5\n",
      "4\n",
      "3\n",
      "2\n",
      "1\n"
     ]
    }
   ],
   "source": [
    "n = int(input())\n",
    "\n",
    "\n",
    "for i in range(n):\n",
    "    print(-(i-n))"
   ]
  },
  {
   "cell_type": "code",
   "execution_count": 98,
   "id": "f99611f8",
   "metadata": {},
   "outputs": [
    {
     "name": "stdout",
     "output_type": "stream",
     "text": [
      "5\n",
      "  *\n",
      "   *\n",
      "    *\n",
      "     *\n",
      "      *\n"
     ]
    }
   ],
   "source": [
    "n = int(input())\n",
    "\n",
    "for i in range(1,n+1):\n",
    "    print(\" \"*i,\"*\")"
   ]
  },
  {
   "cell_type": "code",
   "execution_count": 39,
   "id": "60685c81",
   "metadata": {},
   "outputs": [
    {
     "name": "stdout",
     "output_type": "stream",
     "text": [
      "13:52:30\n",
      "14:00:00\n",
      "0\n"
     ]
    }
   ],
   "source": [
    "n = input()\n",
    "m = input()\n",
    "result=[]\n",
    "\n",
    "n=list(n)\n",
    "m=list(m)\n",
    "\n",
    "\n",
    "for i in range(len(n)):\n",
    "    if i ==2 or i==5 :\n",
    "        continue\n",
    "        \n",
    "    elif \n",
    "\n",
    "print(int(n[i])-int(m[i]))"
   ]
  },
  {
   "cell_type": "code",
   "execution_count": 49,
   "id": "7b9dfe72",
   "metadata": {},
   "outputs": [
    {
     "name": "stdout",
     "output_type": "stream",
     "text": [
      "9850\n",
      "1050\n",
      "800\n",
      "420\n",
      "380\n",
      "600\n",
      "820\n",
      "2400\n",
      "1800\n",
      "980\n",
      "600\n"
     ]
    }
   ],
   "source": [
    "n = int(input())\n",
    "result=[]\n",
    "\n",
    "\n",
    "for _ in range(9):\n",
    "    \n",
    "    m= int(input())\n",
    "    result.append(m)\n",
    "    \n",
    "    result2=n-sum(result)\n",
    "    \n",
    "print(result2)"
   ]
  },
  {
   "cell_type": "code",
   "execution_count": 78,
   "id": "0916a372",
   "metadata": {},
   "outputs": [
    {
     "name": "stdout",
     "output_type": "stream",
     "text": [
      "1 1\n",
      "2 2\n",
      "0 0\n",
      "2\n",
      "4\n"
     ]
    }
   ],
   "source": [
    "def good():\n",
    "    results = []\n",
    "\n",
    "    while True:\n",
    "        n, m = map(int, input().split())\n",
    "        if n == 0 and m == 0:\n",
    "            break\n",
    "        results.append(n + m)\n",
    "\n",
    "    for result in results:\n",
    "        print(result)\n",
    "\n",
    "good()"
   ]
  },
  {
   "cell_type": "code",
   "execution_count": 125,
   "id": "04c12714",
   "metadata": {},
   "outputs": [
    {
     "name": "stdout",
     "output_type": "stream",
     "text": [
      "2\n",
      "2\n",
      "1 1.3\n",
      "2 2.3\n",
      "2\n",
      "3 4.3\n",
      "4 4.3\n",
      "(3, 2.0)\n",
      "(7, 4.3)\n"
     ]
    }
   ],
   "source": [
    "## 튜플형태 \n",
    "\n",
    "t = int(input())#학기수\n",
    "results=[]\n",
    "\n",
    "\n",
    "for j in range(0,t):\n",
    "    sum = 0\n",
    "    csum = 0\n",
    "    n = int(input())#과목수\n",
    "    for i in range(0,n):\n",
    "        \n",
    "        c,g = map(float,input().split())\n",
    "        csum += c\n",
    "        sum += c*g\n",
    "    \n",
    "    results.append((int(csum), round(sum/csum, 1))) # 튜플 형태로 추가\n",
    "\n",
    "    \n",
    "for result in results:\n",
    "    print(result[0],result[1])\n",
    "    "
   ]
  },
  {
   "cell_type": "code",
   "execution_count": 3,
   "id": "1ec8572e",
   "metadata": {},
   "outputs": [
    {
     "name": "stdout",
     "output_type": "stream",
     "text": [
      "5\n",
      "24 52\n",
      "13 22\n",
      "5 53\n",
      "23 10\n",
      "7 70\n",
      "26\n"
     ]
    }
   ],
   "source": [
    "s = int(input())\n",
    "result=[]\n",
    "\n",
    "for i in range(s):\n",
    "    \n",
    "    n,m = map(int,input().split())\n",
    "    \n",
    "    result.append(m%n)\n",
    "    \n",
    "    \n",
    "print(sum(result))\n",
    "    \n",
    "\n",
    "    \n",
    "    "
   ]
  },
  {
   "cell_type": "code",
   "execution_count": 53,
   "id": "963dd12b",
   "metadata": {},
   "outputs": [
    {
     "name": "stdout",
     "output_type": "stream",
     "text": [
      "10\n",
      "55\n"
     ]
    }
   ],
   "source": [
    "n = int(input())\n",
    "result=[0,1]\n",
    "for _ in range(n-1):\n",
    "    pabo = result[-1] + result[-2]\n",
    "    result.append(pabo)\n",
    "    \n",
    "print(result[-1])"
   ]
  },
  {
   "cell_type": "code",
   "execution_count": 69,
   "id": "8c4ae3e5",
   "metadata": {},
   "outputs": [
    {
     "name": "stdout",
     "output_type": "stream",
     "text": [
      "2\n",
      "10000\n",
      "2\n",
      "1 2000\n",
      "3 400\n",
      "50000\n",
      "0\n",
      "[13200, 50000]\n"
     ]
    }
   ],
   "source": [
    "n = int(input())\n",
    "result=[]\n",
    "\n",
    "for _ in range(n):\n",
    "    s = int(input())  # 자동차 기본 가격\n",
    "    k = int(input())  # 옵션의 개수\n",
    "    total_option_price = 0  # 옵션의 총 가격 초기화\n",
    "\n",
    "    for _ in range(k):\n",
    "        q, p = map(int, input().split())\n",
    "        total_option_price += q * p  # 옵션 가격 합산\n",
    "\n",
    "    result.append(s + total_option_price)\n",
    "    \n",
    "    \n",
    "\n",
    "for i in result:\n",
    "    print(i)\n"
   ]
  },
  {
   "cell_type": "code",
   "execution_count": 2,
   "id": "86d09043",
   "metadata": {},
   "outputs": [
    {
     "name": "stdout",
     "output_type": "stream",
     "text": [
      "4\n",
      "2\n",
      "10\n",
      "19\n",
      "30\n",
      "58\n"
     ]
    }
   ],
   "source": [
    "n = int(input())\n",
    "result=[]\n",
    "\n",
    "for i in range(n):\n",
    "    m= int(input())\n",
    "    \n",
    "    result.append(m)\n",
    "    \n",
    "\n",
    "\n",
    "    \n",
    "for j in range(len(result)-1):\n",
    "    result[j+1]+=result[j]-1\n",
    "    \n",
    "print(result[-1])\n",
    "\n",
    "# 0 0 1 \n",
    "\n",
    "# 4 8\n",
    "\n",
    "# 4 7 10"
   ]
  },
  {
   "cell_type": "code",
   "execution_count": 120,
   "id": "23e1572f",
   "metadata": {},
   "outputs": [
    {
     "name": "stdout",
     "output_type": "stream",
     "text": [
      "3\n",
      "1\n",
      "1\n",
      "1\n",
      "1\n"
     ]
    }
   ],
   "source": [
    "n = int(input())\n",
    "total_plugs = 0\n",
    "\n",
    "for _ in range(n):\n",
    "    plugs = int(input())\n",
    "    total_plugs += plugs\n",
    "\n",
    "\n",
    "computer = total_plugs - (n - 1)\n",
    "print(computer)\n"
   ]
  },
  {
   "cell_type": "code",
   "execution_count": 5,
   "id": "74418dd6",
   "metadata": {},
   "outputs": [
    {
     "name": "stdout",
     "output_type": "stream",
     "text": [
      "0\n",
      "100\n",
      "0\n",
      "10\n",
      "100\n",
      "210\n"
     ]
    }
   ],
   "source": [
    "\n",
    "result=0\n",
    "for _ in range(5):\n",
    "    n = int(input())\n",
    "    result+=n\n",
    "    \n",
    "print(result)"
   ]
  },
  {
   "cell_type": "code",
   "execution_count": 13,
   "id": "52e7fd64",
   "metadata": {},
   "outputs": [
    {
     "name": "stdout",
     "output_type": "stream",
     "text": [
      "5\n",
      "22 3\n",
      "15 5\n",
      "99 8\n",
      "7 4\n",
      "101 5\n",
      "You get 7 piece(s) and your dad gets 1 piece(s)\n",
      "You get 3 piece(s) and your dad gets 0 piece(s)\n",
      "You get 12 piece(s) and your dad gets 3 piece(s)\n",
      "You get 1 piece(s) and your dad gets 3 piece(s)\n",
      "You get 20 piece(s) and your dad gets 1 piece(s)\n"
     ]
    }
   ],
   "source": [
    "s = int(input())\n",
    "avg=[]\n",
    "remain=[]\n",
    "\n",
    "for _ in range(s):\n",
    "    n,m = map(int,input().split())\n",
    "    \n",
    "    avg.append(n//m)\n",
    "    remain.append(n%m)\n",
    "    \n",
    "\n",
    "for i in range(len(avg)):\n",
    "    print(\"You get {} piece(s) and your dad gets {} piece(s).\".format(avg[i],remain[i]))\n",
    "    \n",
    "    "
   ]
  },
  {
   "cell_type": "code",
   "execution_count": 15,
   "id": "b0f1aa1f",
   "metadata": {},
   "outputs": [
    {
     "name": "stdout",
     "output_type": "stream",
     "text": [
      "3\n",
      "1 2\n",
      "1 3\n",
      "3 5\n",
      "Case 1: 3\n",
      "Case 2: 4\n",
      "Case 3: 8\n"
     ]
    }
   ],
   "source": [
    "s = int(input())\n",
    "result=[]\n",
    "\n",
    "for _ in range(s):\n",
    "    n,m = map(int,input().split())\n",
    "    \n",
    "    result.append(n+m)\n",
    "    \n",
    "for i in range(len(result)):\n",
    "    \n",
    "    print(\"Case {}: {}\".format(i+1,result[i]))\n",
    "    "
   ]
  },
  {
   "cell_type": "code",
   "execution_count": 18,
   "id": "db189f56",
   "metadata": {},
   "outputs": [
    {
     "name": "stdout",
     "output_type": "stream",
     "text": [
      "2\n",
      "8 12\n",
      "4 6\n",
      "6\n",
      "4\n"
     ]
    }
   ],
   "source": [
    "s = int(input())\n",
    "result=[]\n",
    "\n",
    "for _ in range(s):\n",
    "    b,c = map(int,input().split())\n",
    "    \n",
    "    a=2-b+c\n",
    "    \n",
    "    result.append(a)\n",
    "    \n",
    "for i in result:\n",
    "    print(i)"
   ]
  },
  {
   "cell_type": "code",
   "execution_count": 33,
   "id": "8d7c193d",
   "metadata": {},
   "outputs": [
    {
     "name": "stdout",
     "output_type": "stream",
     "text": [
      "10 5\n",
      "1\n",
      "10\n",
      "4\n",
      "9\n",
      "2\n",
      "3\n",
      "8\n",
      "5\n",
      "7\n",
      "6\n",
      "1 4 2 3 "
     ]
    }
   ],
   "source": [
    "n,m = map(int,input().split())\n",
    "results=[]\n",
    "\n",
    "for _ in range(n):\n",
    "    s= int(input())\n",
    "    if m>s:\n",
    "        results.append(s)\n",
    "        \n",
    "for result in results:\n",
    "    print(result, end=\" \")"
   ]
  },
  {
   "cell_type": "code",
   "execution_count": 34,
   "id": "df2365fa",
   "metadata": {},
   "outputs": [
    {
     "name": "stdout",
     "output_type": "stream",
     "text": [
      "10 5\n",
      "1 10 4 9 2 3 8 5 7 6\n",
      "1 4 2 3 "
     ]
    }
   ],
   "source": [
    "n,m = map(int,input().split())\n",
    "s = list(map(int, input().split())) \n",
    "\n",
    "for num in s:\n",
    "    if num < m:\n",
    "        print(num, end=\" \")\n",
    "        "
   ]
  },
  {
   "cell_type": "code",
   "execution_count": 49,
   "id": "f00e5599",
   "metadata": {},
   "outputs": [
    {
     "name": "stdout",
     "output_type": "stream",
     "text": [
      "10\n",
      "3628800\n"
     ]
    }
   ],
   "source": [
    "n = int(input())\n",
    "\n",
    "def good(n):\n",
    "    \n",
    "    if n<=1:\n",
    "        return 1\n",
    "    else:\n",
    "        return n*good(n-1)\n",
    "        \n",
    "    \n",
    "    \n",
    "print(good(n))"
   ]
  },
  {
   "cell_type": "code",
   "execution_count": 61,
   "id": "655b9ada",
   "metadata": {},
   "outputs": [
    {
     "name": "stdout",
     "output_type": "stream",
     "text": [
      "4\n",
      "1 3 5 7\n",
      "1\n",
      "3\n",
      "5\n",
      "7\n",
      "5\n"
     ]
    }
   ],
   "source": [
    "import math\n",
    "\n",
    "n= int(input())\n",
    "s= list(map(int,input().split()))\n",
    "\n",
    "count=0\n",
    "\n",
    "for i in s:\n",
    "    for j in range(2,i):\n",
    "        if i%j ==0:\n",
    "            continue\n",
    "        else:\n",
    "            count+=1\n",
    "            \n",
    "print(count)\n",
    "        "
   ]
  },
  {
   "cell_type": "code",
   "execution_count": 72,
   "id": "0d9ee662",
   "metadata": {},
   "outputs": [
    {
     "name": "stdout",
     "output_type": "stream",
     "text": [
      "3\n",
      "373\n",
      "1\n"
     ]
    }
   ],
   "source": [
    "import math\n",
    "\n",
    "n = int(input())\n",
    "s = list(map(int, input().split()))\n",
    "\n",
    "def is_prime(num):\n",
    "    if num <= 1:                    # 1이면 false \n",
    "        return False\n",
    "    for i in range(2, int(math.sqrt(num)) + 1):\n",
    "        if num % i == 0:            # 나눠떨어지는게 하나라도 있으면 False\n",
    "            return False\n",
    "        \n",
    "    return True\n",
    "\n",
    "\n",
    "\n",
    "\n",
    "count = 0\n",
    "for number in s:\n",
    "    if is_prime(number):\n",
    "        count += 1\n",
    "\n",
    "print(count)\n"
   ]
  },
  {
   "cell_type": "code",
   "execution_count": 101,
   "id": "fdde8443",
   "metadata": {},
   "outputs": [
    {
     "name": "stdout",
     "output_type": "stream",
     "text": [
      "1234\n",
      "5678\n",
      "1850995\n",
      "1237\n"
     ]
    }
   ],
   "source": [
    "import math\n",
    "\n",
    "n = int(input())\n",
    "m = int(input())\n",
    "result = []\n",
    "result1 = []\n",
    "\n",
    "for i in range(n,m+1):\n",
    "    result.append(i)\n",
    "\n",
    "\n",
    "def is_prime(num):\n",
    "    if num <= 1:                    # 1이면 false \n",
    "        return False\n",
    "    for i in range(2, int(math.sqrt(num)) + 1):\n",
    "        if num % i == 0:            # 나눠떨어지는게 하나라도 있으면 False\n",
    "            return False\n",
    "    return True\n",
    "\n",
    "\n",
    "for number in result:\n",
    "    if is_prime(number):           ## True이면\n",
    "        result1.append(number)     ## result1 에 추가\n",
    "        \n",
    "\n",
    "\n",
    "        \n",
    "\n",
    "if len(result1)>0:\n",
    "    print(sum(result1))\n",
    "    print(min(result1))\n",
    "else :\n",
    "    print(-1)"
   ]
  },
  {
   "cell_type": "code",
   "execution_count": 163,
   "id": "0572b8cc",
   "metadata": {},
   "outputs": [
    {
     "data": {
      "text/plain": [
       "True"
      ]
     },
     "execution_count": 163,
     "metadata": {},
     "output_type": "execute_result"
    }
   ],
   "source": [
    "## 소수 구하기\n",
    "import math\n",
    "\n",
    "def is_prime(num):\n",
    "    if num<=1:\n",
    "        return False\n",
    "    for i in range(2, int(math.sqrt(num))+1):\n",
    "        if num%i ==0:\n",
    "            return False\n",
    "    return True\n",
    "\n",
    "\n",
    "is_prime(11)"
   ]
  },
  {
   "cell_type": "code",
   "execution_count": 3,
   "id": "fbfbc88d",
   "metadata": {},
   "outputs": [
    {
     "name": "stdout",
     "output_type": "stream",
     "text": [
      "134 3\n",
      "[1, 2, 67, 134]\n",
      "67\n"
     ]
    }
   ],
   "source": [
    "## 약수 문제 \n",
    "\n",
    "n,m = map(int,input().split())\n",
    "\n",
    "result=[]\n",
    "\n",
    "def good(n):\n",
    "    for i in range(1,n+1):\n",
    "        if n%i ==0:\n",
    "            result.append(i)\n",
    "\n",
    "            \n",
    "good(n)       \n",
    "print(result)\n",
    "\n",
    "\n",
    "if len(result)<m:\n",
    "    print(0)\n",
    "else:\n",
    "    print(result[m-1])\n",
    "    \n",
    "\n",
    "\n",
    "# 첫째 줄에 N의 약수들 중 K번째로 작은 수를 출력한다. 만일 \n",
    "# N의 약수의 개수가 K개보다 적어서 K번째 \n",
    "# 약수가 존재하지 않을 경우에는 0을 출력하시오.\n",
    "\n"
   ]
  },
  {
   "cell_type": "code",
   "execution_count": 8,
   "id": "3d07bbab",
   "metadata": {},
   "outputs": [
    {
     "name": "stdout",
     "output_type": "stream",
     "text": [
      "3\n",
      "29\n",
      "38\n",
      "12\n",
      "57\n",
      "74\n",
      "40\n",
      "85\n",
      "61\n",
      "85\n",
      "8\n"
     ]
    }
   ],
   "source": [
    "results=[]\n",
    "\n",
    "for i in range(9):\n",
    "    n = int(input())\n",
    "    results.append(n)\n",
    "    \n",
    "index =results.index(max(results))\n",
    "    \n",
    "    \n",
    "print(max(results))\n",
    "print(index+1)"
   ]
  },
  {
   "cell_type": "code",
   "execution_count": 14,
   "id": "beeb3edf",
   "metadata": {},
   "outputs": [
    {
     "name": "stdout",
     "output_type": "stream",
     "text": [
      "0 4 2 5 6\n",
      "1\n"
     ]
    }
   ],
   "source": [
    "n = list(map(int,input().split()))\n",
    "result=[]\n",
    "for i in n :\n",
    "    \n",
    "    result.append(i*i)\n",
    "    \n",
    "    \n",
    "a = sum(result)\n",
    "\n",
    "result1 = a%10\n",
    "    \n",
    "\n",
    "\n",
    "\n",
    "print(result1)"
   ]
  },
  {
   "cell_type": "code",
   "execution_count": 62,
   "id": "40fcc601",
   "metadata": {},
   "outputs": [
    {
     "name": "stdout",
     "output_type": "stream",
     "text": [
      "30\n",
      "832040\n"
     ]
    }
   ],
   "source": [
    "## 파보나치 \n",
    "\n",
    "result =[0,1]\n",
    "n = int(input())\n",
    "\n",
    "for i in range(n-1):\n",
    "    result.append(i+1)\n",
    "\n",
    "\n",
    "for i in range(n-1):\n",
    "    result[i+2]= result[i+1] +result[i]\n",
    "\n",
    "    \n",
    "print(result[-1])\n"
   ]
  },
  {
   "cell_type": "code",
   "execution_count": 98,
   "id": "27e32b0c",
   "metadata": {},
   "outputs": [
    {
     "name": "stdout",
     "output_type": "stream",
     "text": [
      "12\n",
      "77\n",
      "38\n",
      "41\n",
      "53\n",
      "92\n",
      "85\n",
      "256\n",
      "41\n"
     ]
    }
   ],
   "source": [
    "# 홀수 출력\n",
    "\n",
    "result=[]\n",
    "\n",
    "for _ in range(7):\n",
    "    n = int(input())\n",
    "    \n",
    "    result.append(n)\n",
    "    \n",
    "\n",
    "\n",
    "odd=[]\n",
    "even=[]\n",
    "\n",
    "\n",
    "for i in range(len(result)):\n",
    "    if result[i] %2 != 0 :\n",
    "        odd.append(result[i])\n",
    "    else:\n",
    "        even.append(result[i])\n",
    "\n",
    "\n",
    "        \n",
    "if len(even) ==7:\n",
    "    print(-1)\n",
    "elif len(odd)>0:\n",
    "    print(sum(odd))\n",
    "    print(min(odd))\n",
    "        \n"
   ]
  },
  {
   "cell_type": "code",
   "execution_count": 113,
   "id": "278c41f5",
   "metadata": {},
   "outputs": [
    {
     "name": "stdout",
     "output_type": "stream",
     "text": [
      "2\n",
      "5\n",
      "1 1 1 1 1\n",
      "7\n",
      "1 2 3 4 5 6 7\n",
      "5\n",
      "28\n"
     ]
    }
   ],
   "source": [
    "##테스트 케이스 \n",
    "\n",
    "T = int(input())\n",
    "result=[]\n",
    "\n",
    "for _ in range(T):\n",
    "    N = int(input())\n",
    "    numbers = list(map(int, input().split()))\n",
    "    result.append(sum(numbers))\n",
    "\n",
    "\n",
    "for i in result:\n",
    "    print(i)\n"
   ]
  },
  {
   "cell_type": "code",
   "execution_count": 121,
   "id": "19a1c9df",
   "metadata": {},
   "outputs": [
    {
     "name": "stdout",
     "output_type": "stream",
     "text": [
      "0 1 0 1\n",
      "1 1 1 0\n",
      "0 0 1 1\n",
      "B\n",
      "A\n",
      "B\n"
     ]
    }
   ],
   "source": [
    "# 1110 =도\n",
    "# 1100 =개\n",
    "# 1000 =걸\n",
    "# 0000 =윷\n",
    "# 1111 =모\n",
    "\n",
    "result=[]\n",
    "\n",
    "for _ in range(3):\n",
    "    s= list(map(int,input().split()))\n",
    "    \n",
    "    result.append(s)\n",
    "\n",
    "    \n",
    "\n",
    "for i in result:\n",
    "    if i.count(1)==4:\n",
    "        print(\"E\")\n",
    "    elif i.count(1)==3:\n",
    "        print(\"A\")\n",
    "    elif i.count(1)==2:\n",
    "        print(\"B\")\n",
    "    elif i.count(1)==1:\n",
    "        print(\"C\")\n",
    "    else:\n",
    "        print(\"D\")"
   ]
  },
  {
   "cell_type": "code",
   "execution_count": 126,
   "id": "3004376a",
   "metadata": {},
   "outputs": [
    {
     "name": "stdout",
     "output_type": "stream",
     "text": [
      "5\n",
      "1 3 5 6 5\n",
      "2\n",
      "2\n"
     ]
    }
   ],
   "source": [
    "\n",
    "\n",
    "n = int(input())\n",
    "s = list(map(int, input().split()))\n",
    "\n",
    "count = s.count(n)\n",
    "\n",
    "print(count)\n",
    "\n"
   ]
  },
  {
   "cell_type": "code",
   "execution_count": 127,
   "id": "2c6d7173",
   "metadata": {},
   "outputs": [
    {
     "name": "stdout",
     "output_type": "stream",
     "text": [
      "5\n",
      "1 3 5 6 5\n",
      "2\n"
     ]
    }
   ],
   "source": [
    "# 날짜의 일의 자리 숫자 입력받기\n",
    "date_digit = int(input())\n",
    "\n",
    "# 자동차 번호의 일의 자리 숫자 입력받기\n",
    "car_digits = list(map(int, input().split()))\n",
    "\n",
    "# 10부제 위반 차량 수 세기\n",
    "violation_count = 0\n",
    "\n",
    "for digit in car_digits:\n",
    "    if digit == date_digit:\n",
    "        violation_count += 1\n",
    "\n",
    "# 결과 출력\n",
    "print(violation_count)\n"
   ]
  },
  {
   "cell_type": "code",
   "execution_count": 160,
   "id": "d0e9b14d",
   "metadata": {},
   "outputs": [
    {
     "name": "stdout",
     "output_type": "stream",
     "text": [
      "10\n",
      "1 0 1 1 1 0 0 1 1 0\n",
      "10\n"
     ]
    }
   ],
   "source": [
    "## O,X 문제 \n",
    "\n",
    "n = int(input())\n",
    "s = list(map(int, input().split()))\n",
    "\n",
    "count = 0 \n",
    "total_score = 0 \n",
    "\n",
    "for i in s:\n",
    "    if i == 1:\n",
    "        count += 1\n",
    "        total_score += count\n",
    "    else:\n",
    "        count = 0\n",
    "\n",
    "print(total_score)"
   ]
  },
  {
   "cell_type": "code",
   "execution_count": 186,
   "id": "52be9146",
   "metadata": {},
   "outputs": [
    {
     "name": "stdout",
     "output_type": "stream",
     "text": [
      "1\n",
      "50\n",
      "100.0\n"
     ]
    }
   ],
   "source": [
    "n = int(input())\n",
    "\n",
    "s = list(map(int, input().split()))\n",
    "result=[]\n",
    "\n",
    "for i in s :\n",
    "    result.append(i/max(s)*100)\n",
    "    \n",
    "print(sum(result)/int(n))\n",
    "    \n",
    "0"
   ]
  },
  {
   "cell_type": "code",
   "execution_count": 248,
   "id": "00d71892",
   "metadata": {},
   "outputs": [
    {
     "name": "stdout",
     "output_type": "stream",
     "text": [
      "0 100\n",
      "10 30\n",
      "40 50\n",
      "60 80\n",
      "[100, 120, 130, 150]\n"
     ]
    }
   ],
   "source": [
    "current = 0 \n",
    "result=[]\n",
    "\n",
    "for _ in range(4):\n",
    "    n,m = map(int,input().split())\n",
    "    \n",
    "    current -= n\n",
    "    current += m\n",
    "    \n",
    "    result.append(current)\n",
    "    \n",
    "print(result)\n",
    "    \n",
    "\n"
   ]
  },
  {
   "cell_type": "markdown",
   "id": "15ea4d81",
   "metadata": {},
   "source": [
    "# 별찍기"
   ]
  },
  {
   "cell_type": "code",
   "execution_count": 11,
   "id": "56f3a840",
   "metadata": {},
   "outputs": [
    {
     "name": "stdout",
     "output_type": "stream",
     "text": [
      "5\n",
      "*\n",
      "**\n",
      "***\n",
      "****\n",
      "*****\n"
     ]
    }
   ],
   "source": [
    "#1번\n",
    "\n",
    "n=int(input())\n",
    "for i in range(1, n+1):\n",
    "    print(\"*\"*i)"
   ]
  },
  {
   "cell_type": "code",
   "execution_count": 22,
   "id": "bcb47514",
   "metadata": {},
   "outputs": [
    {
     "name": "stdout",
     "output_type": "stream",
     "text": [
      "5\n",
      "    *\n",
      "   **\n",
      "  ***\n",
      " ****\n",
      "*****\n"
     ]
    }
   ],
   "source": [
    "#2번\n",
    "\n",
    "n=int(input())\n",
    "for i in range(1, n+1):\n",
    "    print(' '*(n-i)+\"*\"*i)"
   ]
  },
  {
   "cell_type": "code",
   "execution_count": 26,
   "id": "957dfd96",
   "metadata": {},
   "outputs": [
    {
     "name": "stdout",
     "output_type": "stream",
     "text": [
      "5\n",
      "*****\n",
      "****\n",
      "***\n",
      "**\n",
      "*\n",
      "\n"
     ]
    }
   ],
   "source": [
    "#3번\n",
    "\n",
    "n= int(input())\n",
    "\n",
    "for i in range(0,n+1):\n",
    "    print(\"*\"*(n-i)+\"\"*i)"
   ]
  },
  {
   "cell_type": "code",
   "execution_count": 35,
   "id": "6ab68377",
   "metadata": {},
   "outputs": [
    {
     "name": "stdout",
     "output_type": "stream",
     "text": [
      "5\n",
      "*****\n",
      " ****\n",
      "  ***\n",
      "   **\n",
      "    *\n",
      "     \n"
     ]
    }
   ],
   "source": [
    "#4번\n",
    "\n",
    "n= int(input())\n",
    "\n",
    "for i in range(0,n+1):\n",
    "    print(\" \"*(i)+\"*\"*(n-i))"
   ]
  },
  {
   "cell_type": "code",
   "execution_count": 72,
   "id": "8b076c2a",
   "metadata": {},
   "outputs": [
    {
     "name": "stdout",
     "output_type": "stream",
     "text": [
      "5\n",
      "     *\n",
      "    ***\n",
      "   *****\n",
      "  *******\n",
      " *********\n"
     ]
    }
   ],
   "source": [
    "#5번\n",
    "\n",
    "n= int(input())\n",
    "\n",
    "for i in range(0,n):\n",
    "    print(\" \"*(n-i)+\"*\"*(2*i+1))\n",
    "    "
   ]
  },
  {
   "cell_type": "code",
   "execution_count": 71,
   "id": "61696492",
   "metadata": {},
   "outputs": [
    {
     "name": "stdout",
     "output_type": "stream",
     "text": [
      "5\n",
      "    *\n",
      "   ***\n",
      "  *****\n",
      " *******\n",
      "*********\n"
     ]
    }
   ],
   "source": [
    "#6번\n",
    "\n",
    "N =int(input())\n",
    "for i in range(1, N + 1):\n",
    "    stars = '*' * (2 * i - 1)\n",
    "    spaces = ' ' * (N - i)\n",
    "    print(spaces + stars)\n"
   ]
  },
  {
   "cell_type": "code",
   "execution_count": 93,
   "id": "f4e290c1",
   "metadata": {},
   "outputs": [
    {
     "name": "stdout",
     "output_type": "stream",
     "text": [
      "5\n",
      "*********\n",
      " *******\n",
      "  *****\n",
      "   ***\n",
      "    *\n"
     ]
    }
   ],
   "source": [
    "#7번\n",
    "\n",
    "n= int(input())\n",
    "\n",
    "for i in range(0,n):\n",
    "    star = '*'*(2*(n-i)-1)\n",
    "    space = \" \" * i\n",
    "    \n",
    "    print(space+star)"
   ]
  },
  {
   "cell_type": "code",
   "execution_count": 122,
   "id": "7e526f88",
   "metadata": {},
   "outputs": [
    {
     "name": "stdout",
     "output_type": "stream",
     "text": [
      "5\n",
      "    *\n",
      "   ***\n",
      "  *****\n",
      " *******\n",
      "*********\n",
      " *******\n",
      "  *****\n",
      "   ***\n",
      "    *\n",
      "     \n"
     ]
    }
   ],
   "source": [
    "#8번\n",
    "\n",
    "n =int(input())\n",
    "for i in range(1, n + 1):\n",
    "    stars = '*' * (2 * i - 1)\n",
    "    spaces = ' ' * (n - i)\n",
    "    print(spaces + stars)\n",
    "for j in range(0,n):\n",
    "    star = '*'*(2*(n-j)-3)\n",
    "    space = \" \" * (j+1)\n",
    "    \n",
    "    print(space+star)\n"
   ]
  },
  {
   "cell_type": "code",
   "execution_count": 141,
   "id": "bcd24b23",
   "metadata": {},
   "outputs": [
    {
     "name": "stdout",
     "output_type": "stream",
     "text": [
      "3\n",
      "  *\n",
      " **\n",
      "***\n",
      " **\n",
      "  *\n"
     ]
    }
   ],
   "source": [
    "#9번\n",
    "\n",
    "\n",
    "n = int(input())\n",
    "\n",
    "for i in range(1,n+1):    # i =1,2,3\n",
    "    \n",
    "    star= \"*\" * i\n",
    "    space=\" \" *(n-i)\n",
    "    \n",
    "    print(space+star)\n",
    "    \n",
    "for j in range(1,n):     # j =1,2\n",
    "    \n",
    "    star =\"*\" * (n-j)\n",
    "    space =\" \" * j\n",
    "    \n",
    "    print(space+star)"
   ]
  },
  {
   "cell_type": "code",
   "execution_count": 140,
   "id": "45a03649",
   "metadata": {},
   "outputs": [
    {
     "name": "stdout",
     "output_type": "stream",
     "text": [
      "3\n",
      "*\n",
      "**\n",
      "***\n",
      "**\n",
      "*\n"
     ]
    }
   ],
   "source": [
    "\n",
    "n = int(input())\n",
    "\n",
    "for i in range(1,n+1):       ## i =1,2,3\n",
    "    print(\"*\"*i)\n",
    "    \n",
    "for j in range(1,n):         ## j =1,2\n",
    "    print(\"*\"*(n-j))"
   ]
  },
  {
   "cell_type": "code",
   "execution_count": null,
   "id": "6f23cf69",
   "metadata": {},
   "outputs": [],
   "source": []
  },
  {
   "cell_type": "code",
   "execution_count": 215,
   "id": "707875d1",
   "metadata": {},
   "outputs": [
    {
     "name": "stdout",
     "output_type": "stream",
     "text": [
      "5\n",
      "*        *\n",
      "**      **\n",
      "***    ***\n",
      "****  ****\n",
      "**********\n",
      "****  ****\n",
      "***    ***\n",
      "**      **\n",
      "*        *\n"
     ]
    }
   ],
   "source": [
    "n = int(input())\n",
    "\n",
    "\n",
    "for i in range(1,n+1):\n",
    "    \n",
    "    star = \"*\"*i\n",
    "    space = \" \"*2*(n-i)\n",
    "    print(star+space+star)\n",
    "\n",
    "\n",
    "for j in range(1,n):\n",
    "    \n",
    "\n",
    "    star = \"*\"*(n-j)\n",
    "    space = \" \"*(2*j)\n",
    "    print(star+space+star)\n",
    "\n",
    "    \n",
    "    \n"
   ]
  },
  {
   "cell_type": "code",
   "execution_count": 64,
   "id": "6e206003",
   "metadata": {},
   "outputs": [
    {
     "name": "stdout",
     "output_type": "stream",
     "text": [
      "10\n",
      "*******************\n",
      " *****************\n",
      "  ***************\n",
      "   *************\n",
      "    ***********\n",
      "     *********\n",
      "      *******\n",
      "       *****\n",
      "        ***\n",
      "         *\n",
      "        ***\n",
      "       *****\n",
      "      *******\n",
      "     *********\n",
      "    ***********\n",
      "   *************\n",
      "  ***************\n",
      " *****************\n",
      "*******************\n"
     ]
    }
   ],
   "source": [
    "n= int(input())\n",
    "\n",
    "for i in range(0,n):\n",
    "    star = '*'*(2*(n-i)-1)\n",
    "    space = \" \" * i\n",
    "    \n",
    "    print(space+star)\n",
    "\n",
    "    \n",
    "for j in range(2,n+1):\n",
    "    star = \"*\"*(2*j-1)\n",
    "    space = \" \"*(n-j)\n",
    "        \n",
    "    \n",
    "    print(space+star)"
   ]
  },
  {
   "cell_type": "code",
   "execution_count": 29,
   "id": "afb99903",
   "metadata": {},
   "outputs": [
    {
     "name": "stdout",
     "output_type": "stream",
     "text": [
      "10\n",
      "* * * * * * * * * * \n",
      " * * * * * * * * * *\n",
      "* * * * * * * * * * \n",
      " * * * * * * * * * *\n",
      "* * * * * * * * * * \n",
      " * * * * * * * * * *\n",
      "* * * * * * * * * * \n",
      " * * * * * * * * * *\n",
      "* * * * * * * * * * \n",
      " * * * * * * * * * *\n"
     ]
    }
   ],
   "source": [
    "#별찍기 20 (틀림)\n",
    "\n",
    "n = int(input())\n",
    "\n",
    "for i in range(n): # i = 0,1,2,3\n",
    "    if i % 2 == 0:\n",
    "        line = \"* \" * n\n",
    "    else: \n",
    "        line = \" *\" * n\n",
    "    print(line)"
   ]
  },
  {
   "cell_type": "code",
   "execution_count": 1,
   "id": "e7c56a57",
   "metadata": {},
   "outputs": [
    {
     "name": "stdout",
     "output_type": "stream",
     "text": [
      "10\n",
      "         * \n",
      "        * * \n",
      "       * * * \n",
      "      * * * * \n",
      "     * * * * * \n",
      "    * * * * * * \n",
      "   * * * * * * * \n",
      "  * * * * * * * * \n",
      " * * * * * * * * * \n",
      "* * * * * * * * * * \n"
     ]
    }
   ],
   "source": [
    "n = int(input())\n",
    "\n",
    "for i in range(0,n):\n",
    "    star=\" \"*(n-i-1)+ \"* \"*(i+1)\n",
    "    \n",
    "    \n",
    "    print(star)"
   ]
  },
  {
   "cell_type": "code",
   "execution_count": 10,
   "id": "e5993f35",
   "metadata": {},
   "outputs": [
    {
     "name": "stdout",
     "output_type": "stream",
     "text": [
      "0 32\n",
      "20 100\n",
      "30 40\n",
      "30 20\n",
      "122\n"
     ]
    }
   ],
   "source": [
    "train=0\n",
    "result=[]\n",
    "\n",
    "for _ in range(4):\n",
    "    n,m = map(int,input().split())\n",
    "    \n",
    "    train-=n\n",
    "    train+=m\n",
    "    \n",
    "    result.append(train)\n",
    "    \n",
    "    \n",
    "print(max(result))"
   ]
  },
  {
   "cell_type": "code",
   "execution_count": null,
   "id": "1a46224d",
   "metadata": {},
   "outputs": [],
   "source": [
    "0 0\n",
    "1 0\n",
    "1 1\n",
    "\n",
    "0 0\n",
    "1 0\n",
    "1 1\n",
    "2 0 \n",
    "2 1\n",
    "2 2\n",
    "\n",
    "0 0\n",
    "1 0\n",
    "1 1\n",
    "2 0\n",
    "2 1\n",
    "2 2\n",
    "3 0\n",
    "3 1\n",
    "3 2\n",
    "3 3\n",
    "\n",
    "\n"
   ]
  },
  {
   "cell_type": "code",
   "execution_count": 38,
   "id": "709f064b",
   "metadata": {},
   "outputs": [
    {
     "name": "stdout",
     "output_type": "stream",
     "text": [
      "1\n",
      "3\n"
     ]
    }
   ],
   "source": [
    "result=[]\n",
    "n= int(input())\n",
    "for i in range(n+1):\n",
    "    for j in range(n+1):\n",
    "        if i<j:\n",
    "            pass\n",
    "        elif i>=j:\n",
    "            result.append(i+j)\n",
    "        \n",
    "        \n",
    "print(sum(result))"
   ]
  },
  {
   "cell_type": "code",
   "execution_count": 18,
   "id": "f15e368b",
   "metadata": {},
   "outputs": [
    {
     "name": "stdout",
     "output_type": "stream",
     "text": [
      "24 80\n",
      "8\n",
      "240\n"
     ]
    }
   ],
   "source": [
    "import math\n",
    "\n",
    "result=[]\n",
    " \n",
    "n,m = map(int,input().split())\n",
    "    \n",
    "lcm = (n*m // math.gcd(n,m))  # 최소공배수 = n*m // math,gcd(n,m)\n",
    "\n",
    "result.append(math.gcd(n,m)) ## 최대 공약수\n",
    "    \n",
    "result.append(lcm)           ## 최소 공배수\n",
    "    \n",
    "\n",
    "\n",
    "for i in result:\n",
    "    print(i)\n",
    "    \n",
    "    \n",
    "# 5 25 30    \n",
    "#   5  6   \n",
    "    \n",
    "    \n",
    "# 최대 공약수 :5\n",
    "# 최소 공배수: 5x5x6"
   ]
  }
 ],
 "metadata": {
  "kernelspec": {
   "display_name": "Python 3 (ipykernel)",
   "language": "python",
   "name": "python3"
  },
  "language_info": {
   "codemirror_mode": {
    "name": "ipython",
    "version": 3
   },
   "file_extension": ".py",
   "mimetype": "text/x-python",
   "name": "python",
   "nbconvert_exporter": "python",
   "pygments_lexer": "ipython3",
   "version": "3.11.5"
  }
 },
 "nbformat": 4,
 "nbformat_minor": 5
}
