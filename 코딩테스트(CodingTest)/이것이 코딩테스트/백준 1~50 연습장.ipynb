{
 "cells": [
  {
   "cell_type": "code",
   "execution_count": 5,
   "id": "fec311e6",
   "metadata": {},
   "outputs": [
    {
     "name": "stdout",
     "output_type": "stream",
     "text": [
      "2\n",
      "even\n"
     ]
    }
   ],
   "source": [
    "n = int(input())\n",
    "\n",
    "if n%2==0:\n",
    "    print(\"even\")\n",
    "else:\n",
    "    print(\"odd\")"
   ]
  },
  {
   "cell_type": "code",
   "execution_count": 14,
   "id": "d1bca0dd",
   "metadata": {},
   "outputs": [
    {
     "name": "stdout",
     "output_type": "stream",
     "text": [
      "50.213\n",
      "win\n"
     ]
    }
   ],
   "source": [
    "# 슬기는 체육 선생님과 공던지기로 아이스크림 내기를 하게 됐다.\n",
    "\n",
    "# 공을 던져서 50m ~ 60m 사이에 공이 들어가면 슬기가 이기게 되고, 그 외에 공이 떨어지면 체육선생님이 이기게 룰을 정했다.\n",
    "\n",
    "# 슬기가 던진 공의 위치가 입력으로 주어지면 50이상 60이하이면 \"win\"을 출력하고, 그 외에는 \"lose\"를 출력하시오.\n",
    "\n",
    "# 입력\n",
    "# 슬기가 던진 공의 위치가 입력으로 주어진다.(실수)\n",
    "\n",
    "# 출력\n",
    "# 50이상 60이하이면 win을 출력, 그 외에는 lose를 출력하시오.\n",
    "\n",
    "\n",
    "\n",
    "n = float(input())\n",
    "\n",
    "\n",
    "if n>=50 and n<=60:\n",
    "    print(\"win\")\n",
    "else:\n",
    "    print(\"lose\")"
   ]
  },
  {
   "cell_type": "code",
   "execution_count": 37,
   "id": "f0f81996",
   "metadata": {},
   "outputs": [
    {
     "name": "stdout",
     "output_type": "stream",
     "text": [
      "2001 10\n",
      "31\n"
     ]
    }
   ],
   "source": [
    "# 철수와 영희는 한 사람이 특정 월(month)을 지목하면 나머지 사람이 그 달의 마지막 날이 며칠인지 알아맞히는 게임을 하였다. \n",
    "\n",
    "# 두 사람 모두 처음엔 서툴렀지만 게임을 계속하다 보니 금방 익숙해졌다. \n",
    "\n",
    "# 그래서 게임의 규칙을 조금 어렵게 바꿔 연도와 월을 말하면 그 달의 마지막 날이 며칠인지 알아맞히기로 하였다.\n",
    "\n",
    " \n",
    "\n",
    "# 이 규칙이 어려운 이유는 2월이 윤달이 있기 때문이다.\n",
    "\n",
    "# 2월이 29일인 해를 윤년이라고 하는데, 윤년의 판단은 아래 두 조건 중 하나만 만족하면 된다.\n",
    "\n",
    " \n",
    "\n",
    "# - 조건 1 : 400의 배수인 해는 모두 윤년이다.\n",
    "\n",
    "# - 조건 2 : 4의 배수인 해들 중 100의 배수가 아닌 해들은 모두 윤년이다.\n",
    "\n",
    " \n",
    "\n",
    "# 연도와 월을 알고 있을 때 그 달의 마지막 날을 구하는 프로그램을 작성하시오.\n",
    "\n",
    "\n",
    "\n",
    "\n",
    "n,m = map(int,input().split())\n",
    "\n",
    "\n",
    "if n%400 ==0 or (n%4==0 and n%100!=0):\n",
    "    if m==1 or m==3 or m==5 or m==7 or m==8 or m== 10 or m== 12:\n",
    "        print(\"31\")\n",
    "    elif m==2:\n",
    "        print(\"29\")\n",
    "    else:\n",
    "        print(\"30\")\n",
    "\n",
    "else:\n",
    "    if m==1 or m==3 or m==5 or m==7 or m==8 or m== 10 or m== 12:\n",
    "        print(\"31\")\n",
    "    elif m==2:\n",
    "        print(\"28\")\n",
    "    else:\n",
    "        print(\"30\")"
   ]
  },
  {
   "cell_type": "code",
   "execution_count": 43,
   "id": "c876b83d",
   "metadata": {},
   "outputs": [
    {
     "name": "stdout",
     "output_type": "stream",
     "text": [
      "1 2 3 4 5 6 7 8 9 10 11 12 13 14 15 16 17 18 19 20 21 22 23 24 25 26 27 28 29 30 31 32 33 34 35 36 37 38 39 40 41 42 43 44 45 46 47 48 49 50 51 52 53 54 55 56 57 58 59 60 61 62 63 64 65 66 67 68 69 70 71 72 73 74 75 76 77 78 79 80 81 82 83 84 85 86 87 88 89 90 91 92 93 94 95 96 97 98 99 100 "
     ]
    }
   ],
   "source": [
    "# 반복문 연습용 예제입니다.\n",
    "\n",
    "# 입력은 없습니다.\n",
    "\n",
    "# 1부터 100까지 공백으로 띄워 하나씩 출력하세요.\n",
    "\n",
    "\n",
    "for i in range(1, 101):\n",
    "    print(i, end=\" \")"
   ]
  },
  {
   "cell_type": "code",
   "execution_count": 49,
   "id": "66b0ee19",
   "metadata": {},
   "outputs": [
    {
     "name": "stdout",
     "output_type": "stream",
     "text": [
      "5\n",
      "1 2 3 4 5 "
     ]
    }
   ],
   "source": [
    "# 어떤 수 n을 입력으로 받아 1부터 n까지의 숫자를 출력하시오.\n",
    "\n",
    "# 입력\n",
    "# n이 입력으로 들어온다. (1 <= n <= 100000)\n",
    "\n",
    "# 출력\n",
    "# 1부터 n까지 공백으로 띄워 출력한다.\n",
    "\n",
    "# 입력 예시   \n",
    "# 5\n",
    "\n",
    "# 출력 예시\n",
    "# 1 2 3 4 5 \n",
    "\n",
    "\n",
    "\n",
    "n = int(input())\n",
    "\n",
    "\n",
    "for i in range(n):\n",
    "    print(i+1,end=\" \")"
   ]
  },
  {
   "cell_type": "code",
   "execution_count": 66,
   "id": "178f053c",
   "metadata": {},
   "outputs": [
    {
     "name": "stdout",
     "output_type": "stream",
     "text": [
      "8 3\n",
      "3 4 5 6 7 8 "
     ]
    }
   ],
   "source": [
    "# 어떤 두 수 a, b가 있을 때 두 수 사이의 모든 정수를 오름차순으로 출력하시오.\n",
    "\n",
    "# 예를 들어, a=5 , b=10일 경우 5 6 7 8 9 10입니다.\n",
    "\n",
    "# 입력\n",
    "# 두 수 a, b가 입력으로 들어온다. ( a, b는 정수, a, b 중 어떤 수가 큰지 모름)\n",
    "\n",
    "# 출력\n",
    "# # a와 b 사이의 정수들을 오름차순으로 출력한다.\n",
    "\n",
    "\n",
    "# 입력 예시   \n",
    "# 3 8\n",
    "\n",
    "# 출력 예시\n",
    "# 3 4 5 6 7 8 \n",
    "\n",
    "\n",
    "# a,b = map(int,input().split())\n",
    "\n",
    "\n",
    "# for i in range(a,b+1):\n",
    "#     print(i, end= \" \")\n",
    "    \n",
    "    \n",
    "a, b = map(int, input().split())\n",
    "\n",
    "for i in range(min(a, b), max(a, b) + 1):\n",
    "    print(i, end=\" \")"
   ]
  },
  {
   "cell_type": "code",
   "execution_count": 81,
   "id": "469483ae",
   "metadata": {},
   "outputs": [
    {
     "name": "stdout",
     "output_type": "stream",
     "text": [
      "100\n",
      "5050\n"
     ]
    }
   ],
   "source": [
    "# 정수 n이 입력으로 들어오면 1부터 n까지의 합을 구하시오.\n",
    "\n",
    "# 입력\n",
    "# 입력으로 자연수 n이 입력된다.\n",
    "\n",
    "# 출력\n",
    "# 1부터 n까지의 합을 출력한다.\n",
    "\n",
    "n = int(input())\n",
    "sum=0\n",
    "for i in range(1,n+1):\n",
    "    sum+=i\n",
    "\n",
    "print(sum)"
   ]
  },
  {
   "cell_type": "code",
   "execution_count": 97,
   "id": "558b931d",
   "metadata": {},
   "outputs": [
    {
     "name": "stdout",
     "output_type": "stream",
     "text": [
      "4 5\n",
      "4*1=4\n",
      "4*2=8\n",
      "4*3=12\n",
      "4*4=16\n",
      "4*5=20\n",
      "4*6=24\n",
      "4*7=28\n",
      "4*8=32\n",
      "4*9=36\n",
      "5*1=5\n",
      "5*2=10\n",
      "5*3=15\n",
      "5*4=20\n",
      "5*5=25\n",
      "5*6=30\n",
      "5*7=35\n",
      "5*8=40\n",
      "5*9=45\n"
     ]
    }
   ],
   "source": [
    "# 시작단과 마지막 단을 입력하면\n",
    "\n",
    "# 그 구간의 구구단을 출력하는 프로그램을 작성하시오.\n",
    "\n",
    "n,m = map(int,input().split())\n",
    "\n",
    "for i in range(n,m+1):\n",
    "    for k in range(1,10):\n",
    "        print(str(i) + \"*\" + str(k) + \"=\" + str(i*k))\n",
    "\n",
    "        "
   ]
  },
  {
   "cell_type": "code",
   "execution_count": 110,
   "id": "7c9af81f",
   "metadata": {},
   "outputs": [
    {
     "name": "stdout",
     "output_type": "stream",
     "text": [
      "5\n",
      "**\n",
      " **\n",
      "  **\n",
      "   **\n",
      "    **\n"
     ]
    }
   ],
   "source": [
    "n = int(input())\n",
    "\n",
    "for i in range(n):\n",
    "    print(\" \" * i + \"**\")"
   ]
  },
  {
   "cell_type": "code",
   "execution_count": 140,
   "id": "48b5a37e",
   "metadata": {},
   "outputs": [
    {
     "name": "stdout",
     "output_type": "stream",
     "text": [
      "5\n"
     ]
    },
    {
     "ename": "TypeError",
     "evalue": "'int' object is not callable",
     "output_type": "error",
     "traceback": [
      "\u001b[1;31m---------------------------------------------------------------------------\u001b[0m",
      "\u001b[1;31mTypeError\u001b[0m                                 Traceback (most recent call last)",
      "Cell \u001b[1;32mIn[140], line 12\u001b[0m\n\u001b[0;32m      9\u001b[0m hap \u001b[38;5;241m=\u001b[39m \u001b[38;5;241m0\u001b[39m\n\u001b[0;32m     11\u001b[0m \u001b[38;5;28;01mfor\u001b[39;00m i \u001b[38;5;129;01min\u001b[39;00m \u001b[38;5;28mrange\u001b[39m(\u001b[38;5;241m1\u001b[39m, n \u001b[38;5;241m+\u001b[39m \u001b[38;5;241m1\u001b[39m):\n\u001b[1;32m---> 12\u001b[0m     hap \u001b[38;5;241m+\u001b[39m\u001b[38;5;241m=\u001b[39m \u001b[38;5;28msum\u001b[39m(\u001b[38;5;28mrange\u001b[39m(\u001b[38;5;241m1\u001b[39m, i \u001b[38;5;241m+\u001b[39m \u001b[38;5;241m1\u001b[39m))\n\u001b[0;32m     14\u001b[0m \u001b[38;5;28mprint\u001b[39m(hap)\n",
      "\u001b[1;31mTypeError\u001b[0m: 'int' object is not callable"
     ]
    }
   ],
   "source": [
    "##### 동렬이는 수학 문제를 풀다 다음과 같은 수열을 보았다.\n",
    "\n",
    "# 임의의 정수 \n",
    "# 이 주어질 때 이 수열의 합 \n",
    "# 을 구하는 프로그램을 작성하시오.\n",
    "\n",
    "\n",
    "n = int(input())\n",
    "hap = 0\n",
    "\n",
    "for i in range(1, n + 1):\n",
    "    hap += sum(range(1, i + 1))\n",
    "\n",
    "print(hap)\n",
    "\n"
   ]
  },
  {
   "cell_type": "code",
   "execution_count": 59,
   "id": "6ead127b",
   "metadata": {},
   "outputs": [
    {
     "name": "stdout",
     "output_type": "stream",
     "text": [
      "123\n",
      "321\n",
      "123\n",
      "246\n",
      "369\n",
      "39483\n"
     ]
    }
   ],
   "source": [
    "# 두 자연수 A와 B가 주어진다. \n",
    "# 이때, A+B, A-B, A*B, A/B(몫), A%B(나머지)를 출력하는 프로그램을 작성하시오. \n",
    "\n",
    "# 입력\n",
    "# 두 자연수 A와 B가 주어진다. (1 ≤ A, B ≤ 10,000)\n",
    "\n",
    "# 출력\n",
    "# 첫째 줄에 A+B, 둘째 줄에 A-B, 셋째 줄에 A*B, \n",
    "# 넷째 줄에 A/B, 다섯째 줄에 A%B를 출력한다.\n",
    "\n",
    "a = int(input())\n",
    "b = list(map(int, input()))\n",
    "\n",
    "for i in range(len(b)):\n",
    "    print(a * b[2-i])\n",
    "\n",
    "# 여기서 b를 숫자로 변환하여 a와 곱함\n",
    "print(a * int(''.join(map(str, b))))\n"
   ]
  },
  {
   "cell_type": "code",
   "execution_count": 65,
   "id": "6f92497e",
   "metadata": {},
   "outputs": [
    {
     "name": "stdout",
     "output_type": "stream",
     "text": [
      "11 15\n",
      "19\n"
     ]
    }
   ],
   "source": [
    "R1,S = map(int,input().split())\n",
    "\n",
    "def good(R1,S):\n",
    "    print(2*S-R1)\n",
    "    \n",
    "good(R1,S)"
   ]
  },
  {
   "cell_type": "code",
   "execution_count": 76,
   "id": "0f30f82f",
   "metadata": {},
   "outputs": [
    {
     "name": "stdout",
     "output_type": "stream",
     "text": [
      "4 4\n",
      "15\n"
     ]
    }
   ],
   "source": [
    "N,M = map(int,input().split())\n",
    "\n",
    "def min_split_count(N, M):\n",
    "    return N * M - 1\n",
    "\n",
    "\n",
    "# 최소 쪼개기 횟수 출력\n",
    "print(min_split_count(N, M))\n"
   ]
  },
  {
   "cell_type": "code",
   "execution_count": 117,
   "id": "f3370677",
   "metadata": {},
   "outputs": [
    {
     "name": "stdout",
     "output_type": "stream",
     "text": [
      "1\n",
      "1 1\n",
      "Case #1:2\n"
     ]
    }
   ],
   "source": [
    "n = int(input())\n",
    "results = []\n",
    "\n",
    "for i in range(1, n+1):\n",
    "    a, b = map(int, input().split())\n",
    "    results.append(\"Case #\"+str(i)+ \":\" +str(a + b))\n",
    "    \n",
    "for result in results:\n",
    "    print(result)\n",
    "\n",
    "    \n",
    "\n",
    "\n",
    "    \n"
   ]
  },
  {
   "cell_type": "code",
   "execution_count": null,
   "id": "62ca8f43",
   "metadata": {},
   "outputs": [],
   "source": [
    "n = int(input())\n",
    "results = []\n",
    "\n",
    "for i in range(1, n+1):\n",
    "    a, b = map(int, input().split())\n",
    "    result =\"Case \"\n",
    "    results.append(f\"Case #{i}: {a + b}\")\n",
    "    \n",
    "for result in results:\n",
    "    print(result)"
   ]
  },
  {
   "cell_type": "code",
   "execution_count": 131,
   "id": "f4f90b59",
   "metadata": {},
   "outputs": [
    {
     "name": "stdout",
     "output_type": "stream",
     "text": [
      "3\n",
      "1 1\n",
      "2 2\n",
      "3 3\n",
      "Case #1: 1 + 1 = 2\n",
      "Case #2: 2 + 2 = 4\n",
      "Case #3: 3 + 3 = 6\n"
     ]
    }
   ],
   "source": [
    "\n",
    "\n",
    "\n",
    "n = int(input())\n",
    "results = []\n",
    "\n",
    "for i in range(1, n+1):\n",
    "    a, b = map(int, input().split())\n",
    "    result = \"Case #{}: {} + {} = {}\".format(i,a,b,a+b)\n",
    "    results.append(result)\n",
    "\n",
    "for result in results:\n",
    "    print(result)\n",
    "\n",
    "    \n",
    "\n",
    "\n",
    "\n",
    "\n",
    "\n",
    "\n",
    "\n",
    "\n",
    "\n",
    "\n"
   ]
  },
  {
   "cell_type": "code",
   "execution_count": 4,
   "id": "8f74478d",
   "metadata": {},
   "outputs": [
    {
     "name": "stdout",
     "output_type": "stream",
     "text": [
      "2023-12-22\n"
     ]
    }
   ],
   "source": [
    "import datetime\n",
    "\n",
    "current = datetime.datetime.today()\n",
    "\n",
    "year = current.strftime(\"%Y\")\n",
    "month = current.strftime(\"%m\")\n",
    "day = current.strftime(\"%d\")\n",
    "\n",
    "print(\"{}-{}-{}\".format(year,month,day))"
   ]
  },
  {
   "cell_type": "code",
   "execution_count": 32,
   "id": "76e53cb0",
   "metadata": {},
   "outputs": [
    {
     "name": "stdout",
     "output_type": "stream",
     "text": [
      "10 20\n",
      "45\n",
      "11 5\n"
     ]
    }
   ],
   "source": [
    "# KOI 전자에서는 건강에 좋고 맛있는 훈제오리구이 요리를 간편하게 만드는 인공지능 오븐을 개발하려고 한다.\n",
    "#인공지능 오븐을 사용하는 방법은 적당한 양의 오리 훈제 재료를 인공지능 오븐에 넣으면 된다.\n",
    "#그러면 인공지능 오븐은 오븐구이가 끝나는 시간을 분 단위로 자동적으로 계산한다.\n",
    "\n",
    "# 또한, KOI 전자의 인공지능 오븐 앞면에는 사용자에게 훈제오리구이 요리가 끝나는 시각을 알려 주는 디지털 시계가 있다.\n",
    "# # \n",
    "# 훈제오리구이를 시작하는 시각과 오븐구이를 하는 데 필요한 시간이 분단위로 주어졌을 때, \n",
    "#오븐구이가 끝나는 시각을 계산하는 프로그램을 작성하시오.\n",
    "\n",
    "# 입력\n",
    "# 첫째 줄에는 현재 시각이 나온다. \n",
    "#현재 시각은 시 A (0 ≤ A ≤ 23) 와 분 B (0 ≤ B ≤ 59)가 정수로 빈칸을 사이에 두고 순서대로 주어진다. \n",
    "#두 번째 줄에는 요리하는 데 필요한 시간 C (0 ≤ C ≤ 1,000)가 분 단위로 주어진다.\n",
    "\n",
    "# 출력\n",
    "# # 첫째 줄에 종료되는 시각의 시와 분을 공백을 사이에 두고 출력한다. \n",
    "#(단, 시는 0부터 23까지의 정수, 분은 0부터 59까지의 정수이다. 디지털 시계는 23시 59분에서 1분이 지나면 0시 0분이 된다.)\n",
    "\n",
    "\n",
    "# 14 30\n",
    "# 20\n",
    "\n",
    "# 14 50\n",
    "\n",
    "\n",
    "n, m = map(int, input().split())\n",
    "s = int(input())\n",
    "\n",
    "def good(n, m, s):\n",
    "    m = m+ s  # 요리 시간을 분에 추가\n",
    "    n = n + m // 60  # 60분이 넘어가면 시간에 추가\n",
    "    \n",
    "    \n",
    "    m = m % 60  # 분을 60으로 나눈 나머지로 설정\n",
    "    n = n % 24  # 시간이 24를 넘어가면 0으로 초기화\n",
    "    print(n,m)\n",
    "\n",
    "\n",
    "    \n",
    "    \n",
    "good(n, m, s)\n",
    "\n",
    "\n",
    "\n"
   ]
  },
  {
   "cell_type": "code",
   "execution_count": 50,
   "id": "13fe61d3",
   "metadata": {},
   "outputs": [
    {
     "name": "stdout",
     "output_type": "stream",
     "text": [
      "23 50 10\n",
      "1210\n",
      "0 10 20\n"
     ]
    }
   ],
   "source": [
    "# 첫째 줄에는 현재 시각이 나온다. 현재 시각은 시 A (0 ≤ A ≤ 23), 분 B (0 ≤ B ≤ 59)와 초 C (0 ≤ C ≤ 59)\n",
    "#가 정수로 빈칸을 사이에 두고 순서대로 주어진다. \n",
    "#두 번째 줄에는 요리하는 데 필요한 시간 D (0 ≤ D ≤ 500,000)가 초 단위로 주어진다.\n",
    "\n",
    "# 출력\n",
    "# 첫째 줄에 종료되는 시각의 시, 분, 초을 공백을 사이에 두고 출력한다.\n",
    "#(단, 시는 0부터 23까지의 정수이며, 분, 초는 0부터 59까지의 정수이다. \n",
    "#디지털 시계는 23시 59분 59초에서 1초가 지나면 0시 0분 0초가 된다.)\n",
    "\n",
    "\n",
    "\n",
    "# 입력 받기\n",
    "h, m, s = map(int, input().split())\n",
    "d = int(input())  # 요리 시간(초 단위)\n",
    "\n",
    "# 요리 시간을 현재 시간에 추가\n",
    "s += d\n",
    "m += s // 60\n",
    "h += m // 60\n",
    "\n",
    "# 초, 분, 시가 각각의 범위를 넘어가는 경우 처리\n",
    "s = s % 60\n",
    "m = m % 60\n",
    "h = h % 24\n",
    "\n",
    "# 결과 출력\n",
    "print(h, m, s)\n"
   ]
  },
  {
   "cell_type": "code",
   "execution_count": 68,
   "id": "ed5445dc",
   "metadata": {},
   "outputs": [
    {
     "name": "stdout",
     "output_type": "stream",
     "text": [
      "1 100\n",
      "1\n"
     ]
    }
   ],
   "source": [
    "# 첫째 줄에 앨범에 수록된 곡의 개수 A와 평균값 I가 주어진다. \n",
    "\n",
    "\n",
    "\n",
    "\n",
    "\n",
    "\n",
    "\n",
    "# (창영이 앨범에 수록된 곡에 포함되어 있는 저작권이 있는 멜로디의 개수) / (앨범에 수록된 곡의 개수) = i\n",
    "\n",
    "# 이때, 평균값은 항상 올림을 해서 정수로 만들어야 한다. \n",
    "\n",
    "# 예를 들어, 창영이의 1집 앨범 \"영창에서 영원히 영창피아노를 친다\"에 총 38개 곡이 수록되어 있고, \n",
    "\n",
    "# 이 앨범에 저작권이 있는 멜로디가 894개가 있다면, 평균값은 23.53이 되고 올림해서 24가 된다.\n",
    "\n",
    "# 매니저 강산이는 얼마나 많은 사람에게 저작권료를 주어야 하는지 궁금해졌다. \n",
    "\n",
    "# 강산이가 알고 있는 정보는 앨범에 수록되어 있는 곡의 개수와 위에서 구한 평균값이다. \n",
    "\n",
    "# 이때, 적어도 몇 곡이 저작권이 있는 멜로디인지 구하는 프로그램을 작성하시오.\n",
    "\n",
    "# 첫째 줄에 앨범에 수록된 곡의 개수 A와 평균값 I가 주어진다. (1 ≤ A, I ≤ 100)\n",
    "\n",
    "\n"
   ]
  },
  {
   "cell_type": "code",
   "execution_count": 80,
   "id": "c3089f04",
   "metadata": {},
   "outputs": [
    {
     "name": "stdout",
     "output_type": "stream",
     "text": [
      "30 30 10\n",
      "30\n"
     ]
    }
   ],
   "source": [
    "n,m,k = map(int,input().split())\n",
    "\n",
    "def good(n,m,k):\n",
    "    \n",
    "    result = [n,m,k]\n",
    "    \n",
    "    result.sort()\n",
    "    \n",
    "    print(result[1])\n",
    "\n",
    "    \n",
    "    \n",
    "good(n,m,k)"
   ]
  },
  {
   "cell_type": "code",
   "execution_count": 112,
   "id": "e9e02fca",
   "metadata": {},
   "outputs": [
    {
     "name": "stdout",
     "output_type": "stream",
     "text": [
      "10\n",
      "2\n",
      "5\n"
     ]
    }
   ],
   "source": [
    "# N의 소인수분해 결과를 한 줄에 하나씩 오름차순으로 출력한다. N이 1인 경우 아무것도 출력하지 않는다.\n",
    "\n",
    "\n",
    "\n",
    "n = int(input())\n",
    "\n",
    "def good(n):\n",
    "    m = 2  # 가장 작은 소수부터 시작\n",
    "    while n > 1:\n",
    "        if n % m == 0:\n",
    "            print(m)\n",
    "            n = n//m  # n을 m로 나누어 갱신\n",
    "        else:\n",
    "            m += 1  # 나누어지지 않으면 다음 소수로 이동\n",
    "\n",
    "\n",
    "good(n)\n",
    "\n",
    "\n",
    "    \n",
    "    "
   ]
  },
  {
   "cell_type": "code",
   "execution_count": 138,
   "id": "fd8d94bd",
   "metadata": {},
   "outputs": [
    {
     "name": "stdout",
     "output_type": "stream",
     "text": [
      "88\n",
      "1\n",
      "2\n",
      "3\n",
      "4\n",
      "5\n",
      "6\n",
      "7\n",
      "8\n",
      "9\n",
      "10\n",
      "11\n",
      "12\n",
      "13\n",
      "12\n"
     ]
    }
   ],
   "source": [
    "# 서로 다른 N개의 자연수의 합이 S라고 한다. S를 알 때, 자연수 N의 최댓값은 얼마일까?\n",
    "\n",
    "\n",
    "# 첫째 줄에 자연수 S(1 ≤ S ≤ 4,294,967,295)가 주어진다.\n",
    "\n",
    "\n",
    "S = int(input())\n",
    "\n",
    "def good(S):\n",
    "    total = 0\n",
    "    n = 0\n",
    "    while total <= S:\n",
    "        n += 1\n",
    "        total += n\n",
    "        \n",
    "        print(n)\n",
    "    return n - 1\n",
    "\n",
    "print(good(S))\n",
    "        "
   ]
  },
  {
   "cell_type": "code",
   "execution_count": 80,
   "id": "e8658ef1",
   "metadata": {},
   "outputs": [
    {
     "name": "stdout",
     "output_type": "stream",
     "text": [
      "10\n",
      "65\n",
      "100\n",
      "30\n",
      "95\n",
      "68\n"
     ]
    }
   ],
   "source": [
    "\n",
    "result=[]\n",
    "\n",
    "for i in range(5):\n",
    "    \n",
    "    n = int(input())\n",
    "    \n",
    "    if n%5 ==0 and n<=100 and n>=0:\n",
    "        if n>=40:\n",
    "            result.append(n)\n",
    "        else:\n",
    "            result.append(40)\n",
    "    \n",
    "    \n",
    "print(int(sum(result)/5))\n",
    "        \n",
    "\n",
    "            \n",
    "\n"
   ]
  },
  {
   "cell_type": "code",
   "execution_count": 105,
   "id": "682302fe",
   "metadata": {},
   "outputs": [
    {
     "name": "stdout",
     "output_type": "stream",
     "text": [
      "2\n",
      "10 20\n",
      "30 30\n",
      "20\n",
      "30\n"
     ]
    }
   ],
   "source": [
    "import math\n",
    "\n",
    "k = int(input())\n",
    "\n",
    "result=[]\n",
    "\n",
    "for i in range(k):\n",
    "    \n",
    "    n,m = map(int,input().split())\n",
    "    \n",
    "    lcm = (n*m // math.gcd(n,m))  ## n*m // math.gcd(m,n)\n",
    "    \n",
    "    result.append(lcm)\n",
    "    \n",
    "    \n",
    "for i in result:\n",
    "    print(i)\n",
    "    \n",
    "\n",
    "\n",
    "\n"
   ]
  },
  {
   "cell_type": "code",
   "execution_count": null,
   "id": "fd143019",
   "metadata": {},
   "outputs": [],
   "source": [
    "\n",
    "## 라이브러리 없이 \n",
    "\n",
    "def gcd(a, b):\n",
    "    while b != 0:\n",
    "        a, b = b, a % b\n",
    "    return a\n",
    "\n",
    "def lcm(a, b):\n",
    "    return a * b // gcd(a, b)\n",
    "\n",
    "k = int(input())\n",
    "result = []\n",
    "\n",
    "for _ in range(k):\n",
    "    n, m = map(int, input().split())\n",
    "    result.append(lcm(n, m))\n",
    "\n",
    "for r in result:\n",
    "    print(r)"
   ]
  },
  {
   "cell_type": "code",
   "execution_count": 60,
   "id": "07eb81d5",
   "metadata": {},
   "outputs": [
    {
     "name": "stdout",
     "output_type": "stream",
     "text": [
      "3\n",
      "3 3 6\n",
      "2 2 2\n",
      "6 2 5\n",
      "12000\n"
     ]
    }
   ],
   "source": [
    "\n",
    "\n",
    "\n",
    "n,m,k = map(int,input().split())\n",
    "\n",
    "\n",
    "if n==m==k :\n",
    "    print(10000+(n*1000))\n",
    "elif n==m:\n",
    "    if n!=k:\n",
    "        print(1000+(n*100))\n",
    "elif m==k:\n",
    "    if m!=n:\n",
    "        print(1000+(n*100))\n",
    "elif n==k:\n",
    "    if n!=m:\n",
    "        print(1000+(n*100)) \n",
    "else:\n",
    "    print(max(n,m,k)*100)"
   ]
  },
  {
   "cell_type": "code",
   "execution_count": 20,
   "id": "94384073",
   "metadata": {},
   "outputs": [
    {
     "name": "stdout",
     "output_type": "stream",
     "text": [
      "1 19\n",
      "4 4\n",
      "23 14\n",
      "0 0\n",
      "No\n",
      "No\n",
      "Yes\n"
     ]
    }
   ],
   "source": [
    "\n",
    "result=[]\n",
    "count= 0\n",
    "\n",
    "while True:\n",
    "    n,m= map(int,input().split())\n",
    "    if n>m:\n",
    "        result.append(\"Yes\")\n",
    "        count+=1\n",
    "    elif n<m:\n",
    "        result.append(\"No\")\n",
    "        count+=1\n",
    "    elif n==m and n!=0 and m!=0:\n",
    "        result.append(\"No\")\n",
    "        count+=1\n",
    "    elif (n==0 and m==0):\n",
    "        break\n",
    "        \n",
    "\n",
    "        \n",
    "for i in range(count):\n",
    "    print(result[i])"
   ]
  },
  {
   "cell_type": "code",
   "execution_count": 34,
   "id": "e3be2d8d",
   "metadata": {},
   "outputs": [
    {
     "name": "stdout",
     "output_type": "stream",
     "text": [
      "250 2 140\n",
      "360\n"
     ]
    }
   ],
   "source": [
    "n,m,k = map(int,input().split())\n",
    "\n",
    "def good(n,m,k):\n",
    "    if n*m-k>0:\n",
    "        return n*m-k\n",
    "    else:\n",
    "        return 0\n",
    "\n",
    "\n",
    "print(good(n,m,k))"
   ]
  },
  {
   "cell_type": "code",
   "execution_count": 51,
   "id": "a6e1546c",
   "metadata": {},
   "outputs": [
    {
     "name": "stdout",
     "output_type": "stream",
     "text": [
      "5 5\n",
      "5 7\n",
      "7 5\n",
      "7 7\n"
     ]
    }
   ],
   "source": [
    "X1, Y1 = map(int, input().split())\n",
    "X2, Y2 = map(int, input().split())\n",
    "X3, Y3 = map(int, input().split())\n",
    "\n",
    "if X1 == X2:\n",
    "    A = X3\n",
    "elif X1 == X3:\n",
    "    A = X2\n",
    "else:\n",
    "    A = X1\n",
    "\n",
    "if Y1 == Y2:\n",
    "    B = Y3\n",
    "elif Y1 == Y3:\n",
    "    B = Y2\n",
    "else:\n",
    "    B = Y1\n",
    "\n",
    "print(A, B)"
   ]
  },
  {
   "cell_type": "code",
   "execution_count": 73,
   "id": "0cb86869",
   "metadata": {},
   "outputs": [
    {
     "name": "stdout",
     "output_type": "stream",
     "text": [
      "1\n",
      "1 2 3\n",
      "300\n"
     ]
    }
   ],
   "source": [
    "\n",
    "s = int(input())\n",
    "result=[]\n",
    "\n",
    "\n",
    "\n",
    "for _ in range(s):\n",
    "    n,m,k = map(int,input().split())\n",
    "    if n==m==k :\n",
    "            result.append(10000+(n*1000))\n",
    "    elif n==m:\n",
    "        if n!=k:\n",
    "            result.append(1000+(n*100))\n",
    "    elif m==k:\n",
    "        if m!=n:\n",
    "            result.append(1000+(m*100))\n",
    "    elif n==k:\n",
    "        if n!=m:\n",
    "            result.append(1000+(n*100))\n",
    "    else:\n",
    "        result.append(max(n,m,k)*100)\n",
    "        \n",
    "        \n",
    "print(max(result))"
   ]
  },
  {
   "cell_type": "code",
   "execution_count": 78,
   "id": "4e275ab0",
   "metadata": {},
   "outputs": [
    {
     "name": "stdout",
     "output_type": "stream",
     "text": [
      "D-\n",
      "0.7\n"
     ]
    }
   ],
   "source": [
    "n = input()\n",
    "\n",
    "if n=='A+':\n",
    "    print(float(4.3))\n",
    "elif n=='A0':\n",
    "    print(float(4.0))\n",
    "elif n=='A-':\n",
    "    print(float(3.7))\n",
    "elif n=='B+':\n",
    "    print(float(3.3))\n",
    "elif n=='B0':\n",
    "    print(float(3.0))\n",
    "elif n=='B-':\n",
    "    print(float(2.7))\n",
    "elif n=='C+':\n",
    "    print(float(2.3))\n",
    "elif n=='C0':\n",
    "    print(float(2.0))\n",
    "elif n=='C-':\n",
    "    print(float(1.7))\n",
    "elif n=='D+':\n",
    "    print(float(1.3))\n",
    "elif n=='D0':\n",
    "    print(float(1.0))\n",
    "elif n=='D-':\n",
    "    print(float(0.7))\n",
    "elif n=='F':\n",
    "    print(float(0.0))\n",
    "\n",
    "\n"
   ]
  },
  {
   "cell_type": "code",
   "execution_count": 98,
   "id": "2324d958",
   "metadata": {},
   "outputs": [
    {
     "name": "stdout",
     "output_type": "stream",
     "text": [
      "23 45\n",
      "23 0\n"
     ]
    }
   ],
   "source": [
    "H,M = map(int,input().split())\n",
    "\n",
    "if H>23:\n",
    "    if M>45:\n",
    "        print(H,M-45)\n",
    "    elif M==45:\n",
    "        print(H,M-45)\n",
    "    else:\n",
    "        print(H-1,M+15)\n",
    "        \n",
    "elif H==0:\n",
    "    if M>45:\n",
    "        print(H,M-45)\n",
    "    elif M==45:\n",
    "        print(H,M-45)\n",
    "    else:\n",
    "        print(23,M+15)\n",
    "\n",
    "else:\n",
    "    if M>45:\n",
    "        print(H,M-45)\n",
    "    elif M==45:\n",
    "        print(H,M-45)\n",
    "    else:\n",
    "        print(H-1,M+15)"
   ]
  },
  {
   "cell_type": "code",
   "execution_count": 199,
   "id": "0699cb93",
   "metadata": {},
   "outputs": [
    {
     "name": "stdout",
     "output_type": "stream",
     "text": [
      "()()()\n",
      "60\n",
      "6\n"
     ]
    }
   ],
   "source": [
    "# 접시 \n",
    "\n",
    "a = list(input())\n",
    "\n",
    "result=10\n",
    "\n",
    "\n",
    "## 포인트 len(a)-1 인덱스값 넘어가면안됨...\n",
    "\n",
    "for i in range(len(a)-1):\n",
    "    if a[i]==a[i+1]:\n",
    "        result+=5\n",
    "    elif a[i]!=a[i+1]:\n",
    "        result+=10\n",
    "        \n",
    "print(result)\n",
    "print(len(a))"
   ]
  },
  {
   "cell_type": "code",
   "execution_count": 164,
   "id": "7ddaf9e4",
   "metadata": {},
   "outputs": [
    {
     "name": "stdout",
     "output_type": "stream",
     "text": [
      "2\n",
      "0 100 70\n",
      "100 130 30\n",
      "advertise\n",
      "does not matter\n"
     ]
    }
   ],
   "source": [
    "n = int(input())\n",
    "result=[]\n",
    "\n",
    "#  r은 광고를 하지 않았을 때 수익\n",
    "#, e는 광고를 했을 때의 수익,\n",
    "#  c는 광고 비용이다.\n",
    "\n",
    "#1. r+c < e\n",
    "#2. r+c = e             does not matter\n",
    "#3. r+c > e\n",
    "\n",
    "\n",
    "for _ in range(n):\n",
    "    r,e,c = map(int,input().split())\n",
    "    \n",
    "    if r+c <e:\n",
    "        result.append(\"advertise\")\n",
    "    elif r+c == e:\n",
    "        result.append(\"does not matter\")\n",
    "    elif r+c > e:\n",
    "        result.append(\"do not advertise\")\n",
    "        \n",
    "        \n",
    "\n",
    "for results in result:\n",
    "    print(results)"
   ]
  },
  {
   "cell_type": "code",
   "execution_count": 189,
   "id": "f1ccaf8d",
   "metadata": {},
   "outputs": [
    {
     "name": "stdout",
     "output_type": "stream",
     "text": [
      "10\n",
      "AAAAAABBBB\n",
      "A\n"
     ]
    }
   ],
   "source": [
    "n = int(input())\n",
    "s = list(input())\n",
    "result= []\n",
    "\n",
    "for i in range(n):\n",
    "    if s.count(\"A\") > s.count(\"B\"):\n",
    "        result.append(\"A\")\n",
    "    elif s.count(\"A\") < s.count(\"B\"):\n",
    "        result.append(\"B\")\n",
    "    else:\n",
    "        result.append(\"Tie\")\n",
    "\n",
    "\n",
    "        \n",
    "print(result[0])"
   ]
  },
  {
   "cell_type": "code",
   "execution_count": 205,
   "id": "faa30e9e",
   "metadata": {},
   "outputs": [
    {
     "name": "stdout",
     "output_type": "stream",
     "text": [
      "5\n",
      "AAABB\n",
      "A\n"
     ]
    }
   ],
   "source": [
    "# 심사위원의 수를 고려한 코드 수정\n",
    "\n",
    "n = int(input())\n",
    "s = input()\n",
    "\n",
    "\n",
    "def good(n, s):\n",
    "    # 입력된 심사위원의 수와 투표의 수가 일치하는지 확인\n",
    "    if n != len(s):\n",
    "        return \"입력 오류: 심사위원의 수와 투표 수가 일치하지 않습니다.\"\n",
    "\n",
    "    # 승자 결정\n",
    "    if  s.count('A') > s.count('B'):\n",
    "        return 'A'\n",
    "    elif s.count('A') < s.count('B'):\n",
    "        return 'B'\n",
    "    else:\n",
    "        return 'Tie'\n",
    "\n",
    "\n",
    "# 예제 출력\n",
    "result = good(n, s)\n",
    "print(result)"
   ]
  },
  {
   "cell_type": "code",
   "execution_count": 39,
   "id": "a0ba3ec5",
   "metadata": {},
   "outputs": [
    {
     "name": "stdout",
     "output_type": "stream",
     "text": [
      "3\n",
      "1\n",
      "0\n",
      "0\n",
      "Junhee is not cute!\n"
     ]
    }
   ],
   "source": [
    "n= int(input())\n",
    "k =[]\n",
    "\n",
    "\n",
    "for _ in range(n):\n",
    "    s= int(input())\n",
    "    k.append(s)\n",
    "        \n",
    "    \n",
    "if k.count(1) > k.count(0):\n",
    "    print(\"Junhee is cute!\")\n",
    "elif k.count(1) < k.count(0):\n",
    "    print(\"Junhee is not cute!\")\n",
    "\n",
    "\n",
    "\n",
    "\n",
    "\n",
    "\n",
    "\n",
    "\n",
    "\n",
    "\n",
    "\n",
    "\n",
    "\n",
    "\n",
    "\n"
   ]
  },
  {
   "cell_type": "code",
   "execution_count": null,
   "id": "c0970801",
   "metadata": {},
   "outputs": [],
   "source": []
  },
  {
   "cell_type": "code",
   "execution_count": 110,
   "id": "98566fc2",
   "metadata": {},
   "outputs": [
    {
     "name": "stdout",
     "output_type": "stream",
     "text": [
      "김정호\n",
      "0\n"
     ]
    }
   ],
   "source": [
    "# 알파벳 소문자로만 이루어진 단어가 주어진다. 이때, \n",
    "\n",
    "# 이 단어가 팰린드롬인지 아닌지 확인하는 프로그램을 작성하시오.\n",
    "\n",
    "# 팰린드롬이란 앞으로 읽을 때와 거꾸로 읽을 때 똑같은 단어를 말한다. \n",
    "\n",
    "# level, noon은 팰린드롬이고, baekjoon, online, judge는 팰린드롬이 아니다.\n",
    "\n",
    "n=input()\n",
    "result=[]\n",
    "\n",
    "for i in n:\n",
    "    result.append(i)\n",
    "\n",
    "\n",
    "    \n",
    "if result == result[::-1]:\n",
    "    print(\"1\")\n",
    "    \n",
    "else:\n",
    "    print(\"0\")\n",
    "    "
   ]
  },
  {
   "cell_type": "code",
   "execution_count": 136,
   "id": "21bf0df8",
   "metadata": {},
   "outputs": [
    {
     "name": "stdout",
     "output_type": "stream",
     "text": [
      "8 16\n",
      "32 4\n",
      "17 5\n",
      "0 0\n",
      "factor\n",
      "multiple\n",
      "neither\n"
     ]
    }
   ],
   "source": [
    "# 두 수가 주어졌을 때, 다음 3가지 중 어떤 관계인지 구하는 프로그램을 작성하시오.\n",
    "\n",
    "# 첫 번째 숫자가 두 번째 숫자의 약수이다.\n",
    "# 첫 번째 숫자가 두 번째 숫자의 배수이다.\n",
    "# 첫 번째 숫자가 두 번째 숫자의 약수와 배수 모두 아니다.\n",
    "\n",
    "result=[]\n",
    "\n",
    "while True:\n",
    "    \n",
    "    n,m = map(int,input().split())\n",
    "    \n",
    "    if n==0 and m==0:\n",
    "        break\n",
    "    \n",
    "    elif m%n ==0:\n",
    "        result.append(\"factor\")\n",
    "    \n",
    "    elif n%m ==0:\n",
    "        result.append(\"multiple\")\n",
    "    \n",
    "    else:\n",
    "        result.append(\"neither\")\n",
    "        \n",
    "        \n",
    "for i in result:\n",
    "    print(i)"
   ]
  },
  {
   "cell_type": "code",
   "execution_count": 151,
   "id": "47dd85d7",
   "metadata": {
    "scrolled": true
   },
   "outputs": [
    {
     "name": "stdout",
     "output_type": "stream",
     "text": [
      "1 1\n",
      "2 2\n",
      "0 0\n",
      "2\n",
      "4\n"
     ]
    }
   ],
   "source": [
    "result=[]\n",
    "\n",
    "\n",
    "while True:\n",
    "    \n",
    "    n,m = map(int,input().split())\n",
    "    \n",
    "    \n",
    "    if n ==0 and m==0:\n",
    "        break\n",
    "        \n",
    "    result.append(n+m)\n",
    "        \n",
    "        \n",
    "for i in result:\n",
    "    print(i)"
   ]
  },
  {
   "cell_type": "code",
   "execution_count": 168,
   "id": "79a3e895",
   "metadata": {},
   "outputs": [
    {
     "name": "stdout",
     "output_type": "stream",
     "text": [
      "5\n",
      "0 0\n",
      "0 1\n",
      "1 1\n",
      "3 -3\n",
      "2 2\n",
      "Q1: 2\n",
      "Q2: 0\n",
      "Q3: 0\n",
      "Q4: 1\n",
      "AXIS: 2\n"
     ]
    }
   ],
   "source": [
    "# 사분면\n",
    "\n",
    "s = int(input())\n",
    "q=[0]*5            # 초기화 \n",
    "\n",
    "for _ in range(s):\n",
    "    \n",
    "    n,m = map(int,input().split())\n",
    "    \n",
    "    if n>0 and m>0:\n",
    "        q[0]+=1\n",
    "    elif n<0 and m>0:\n",
    "        q[1]+=1\n",
    "    elif n<0 and m<0:\n",
    "        q[2]+=1\n",
    "    elif n>0 and m<0:\n",
    "        q[3]+=1\n",
    "    elif n==0 or y==0: ## 축설명\n",
    "        q[4]+=1\n",
    "        \n",
    "        \n",
    "for i in range(len(q)-1):\n",
    "    print(\"Q{}: {}\".format(i+1,q[i]))\n",
    "    \n",
    "print(\"AXIS: {}\".format(q[4]))"
   ]
  },
  {
   "cell_type": "code",
   "execution_count": 250,
   "id": "279a8038",
   "metadata": {},
   "outputs": [
    {
     "name": "stdout",
     "output_type": "stream",
     "text": [
      "5\n",
      "OXOXO\n",
      "OXOXO\n",
      "OXOXOXOXOX\n",
      "OXOXOOX\n",
      "OXXO\n",
      "3\n",
      "3\n",
      "5\n",
      "5\n",
      "2\n"
     ]
    }
   ],
   "source": [
    "## OX 퀴즈 \n",
    "\n",
    "n = int(input())\n",
    "haps=[]\n",
    "\n",
    "\n",
    "for _ in range(n):\n",
    "    \n",
    "    s= input()\n",
    "    hap =0\n",
    "    count=0\n",
    "    \n",
    "    \n",
    "    for i in s:\n",
    "        if i ==\"O\":\n",
    "            count+=1\n",
    "            hap+=count\n",
    "        else :\n",
    "            count=0\n",
    "            \n",
    "    haps.append(hap)\n",
    "    \n",
    "\n",
    "for i in haps:\n",
    "    print(i)"
   ]
  },
  {
   "cell_type": "code",
   "execution_count": null,
   "id": "7b860ba2",
   "metadata": {},
   "outputs": [],
   "source": []
  },
  {
   "cell_type": "code",
   "execution_count": 282,
   "id": "e3c1e357",
   "metadata": {},
   "outputs": [
    {
     "name": "stdout",
     "output_type": "stream",
     "text": [
      "6\n",
      "28\n",
      "512\n",
      "-1\n",
      "6 = 1 + 2 + 3\n",
      "28 = 1 + 2 + 4 + 7 + 14\n",
      "512 is NOT perfect\n"
     ]
    }
   ],
   "source": [
    "\n",
    "\n",
    "results=[]\n",
    "\n",
    "while True:\n",
    "    \n",
    "    \n",
    "    n = int(input())\n",
    "    lst = []\n",
    "    if n == -1:\n",
    "        break\n",
    "        \n",
    "        \n",
    "    for i in range(1,(n//2)+1): ## 완전수의 끝값은 절대 해당값의 절반을 못넘음\n",
    "        if n % i == 0 :\n",
    "            lst.append(i)        ## 나머지가 0이면 완전수의 약수들임\n",
    "            \n",
    "            \n",
    "    if n == sum(lst) :\n",
    "        div = ' + '.join(map(str, lst))\n",
    "        results.append('{} = {}'.format(n,div))\n",
    "    else:\n",
    "        results.append('{} is NOT perfect'.format(n))\n",
    "        \n",
    "\n",
    "        \n",
    "        \n",
    "for result in results:\n",
    "    print(result)"
   ]
  },
  {
   "cell_type": "code",
   "execution_count": 20,
   "id": "781cf46a",
   "metadata": {},
   "outputs": [
    {
     "name": "stdout",
     "output_type": "stream",
     "text": [
      "4\n",
      "5 6\n",
      "6 6\n",
      "4 3\n",
      "5 2\n",
      "94\n",
      "91\n"
     ]
    }
   ],
   "source": [
    "s = int(input())\n",
    "score1=100\n",
    "score2=100\n",
    "\n",
    "for i in range(s):\n",
    "    n,m = map(int,input().split())\n",
    "    \n",
    "    \n",
    "    if n>m :\n",
    "        score2 = (score2-n)\n",
    "    elif n<m :\n",
    "        score1 = (score1-m)\n",
    "    elif n==m:\n",
    "        pass\n",
    "    \n",
    "\n",
    "print(score1)\n",
    "print(score2)"
   ]
  },
  {
   "cell_type": "code",
   "execution_count": null,
   "id": "2756d905",
   "metadata": {},
   "outputs": [],
   "source": [
    "s = int(input())\n",
    "\n",
    "for _ in range(s):\n",
    "    \n",
    "    yeonsi =0\n",
    "    korea  =0 \n",
    "    \n",
    "    for i in range(9):\n",
    "        n,m = map(int,input().split())\n",
    "        \n",
    "     \n",
    "        yeonsi+=n\n",
    "       \n",
    "        korea+=m\n",
    "\n",
    "    \n",
    "    \n",
    "    if yeonsi> korea:\n",
    "        print(\"Yonsei\")\n",
    "    elif yeonsi< korea:\n",
    "        print(\"Korea\")\n",
    "    elif yeonsi == korea:\n",
    "        print(\"Draw\")"
   ]
  },
  {
   "cell_type": "code",
   "execution_count": 35,
   "id": "15b206c2",
   "metadata": {},
   "outputs": [
    {
     "name": "stdout",
     "output_type": "stream",
     "text": [
      "1 2\n",
      "3\n"
     ]
    }
   ],
   "source": [
    "def good(a,b):\n",
    "    print(a+b)\n",
    "\n",
    "    \n",
    "a,b = map(int,input().split())\n",
    "good(a,b)"
   ]
  },
  {
   "cell_type": "code",
   "execution_count": 57,
   "id": "083066fd",
   "metadata": {},
   "outputs": [
    {
     "name": "stdout",
     "output_type": "stream",
     "text": [
      "60 100\n",
      "-1\n",
      "-1\n",
      "-1\n",
      "-1\n",
      "-1\n",
      "-1\n",
      "-1\n",
      "-1\n",
      "-1\n",
      "-1\n",
      "-1\n",
      "-1\n",
      "-1\n",
      "-1\n",
      "-1\n",
      "-1\n",
      "-1\n",
      "-1\n",
      "-1\n",
      "-1\n",
      "-1\n",
      "-1\n",
      "-1\n",
      "-1\n",
      "-1\n",
      "-1\n",
      "-1\n",
      "-1\n",
      "-1\n",
      "-1\n",
      "-1\n",
      "-1\n",
      "-1\n",
      "-1\n",
      "-1\n",
      "-1\n",
      "-1\n",
      "-1\n",
      "245\n",
      "64\n"
     ]
    }
   ],
   "source": [
    "\n",
    "\n",
    "n,m = map(int,input().split())\n",
    "\n",
    "sq=[]\n",
    "\n",
    "for i in range(n,m+1):\n",
    "    \n",
    "    T = int((i**0.5)) **2\n",
    "    \n",
    "    if i == T:\n",
    "        sq.append(T)\n",
    "\n",
    "        \n",
    "print(sum(sq))\n",
    "print(min(sq))"
   ]
  },
  {
   "cell_type": "code",
   "execution_count": 60,
   "id": "fa3351c1",
   "metadata": {},
   "outputs": [
    {
     "name": "stdout",
     "output_type": "stream",
     "text": [
      "2\n",
      "2\n",
      "yeong 2\n",
      "engi 3\n",
      "2\n",
      "hye 4\n",
      "ncs 5\n",
      "engi\n",
      "ncs\n"
     ]
    }
   ],
   "source": [
    "s = int(input())\n",
    "\n",
    "result = []\n",
    "\n",
    "for _ in range(s):\n",
    "    lst1 = []\n",
    "    lst2 = []\n",
    "    p = int(input())\n",
    "\n",
    "    for _ in range(p):\n",
    "        n, m = input().split()\n",
    "        lst1.append(n)\n",
    "        lst2.append(int(m))  # 문자열을 정수로 변환하여 저장\n",
    "\n",
    "    max_consumption = max(lst2)  # 최대 술 소비량 찾기\n",
    "    max_index = lst2.index(max_consumption)  # 최대 소비량의 인덱스 찾기\n",
    "    result.append(lst1[max_index])  # 해당 인덱스의 학교 이름을 결과 리스트에 추가\n",
    "\n",
    "for v in result:\n",
    "    print(v)\n"
   ]
  },
  {
   "cell_type": "code",
   "execution_count": null,
   "id": "c39a9a30",
   "metadata": {},
   "outputs": [],
   "source": [
    "s = int(input())\n",
    "\n",
    "result= []\n",
    "\n",
    "for _ in range(s):\n",
    "    \n",
    "    lst1=[]\n",
    "    lst2=[]\n",
    "    p = int(input())\n",
    "    \n",
    "    for _ in range(p):\n",
    "        n, m = input().split()\n",
    "        lst1.append(n)\n",
    "        lst2.append(int(m))\n",
    "        \n",
    "    for k in range(p):\n",
    "        if lst2[k] == max(lst2):\n",
    "            result.append(lst1[k])\n",
    "            \n",
    "\n",
    "            \n",
    "for v in range(s):\n",
    "    print(result[v])\n",
    "            "
   ]
  }
 ],
 "metadata": {
  "kernelspec": {
   "display_name": "Python 3 (ipykernel)",
   "language": "python",
   "name": "python3"
  },
  "language_info": {
   "codemirror_mode": {
    "name": "ipython",
    "version": 3
   },
   "file_extension": ".py",
   "mimetype": "text/x-python",
   "name": "python",
   "nbconvert_exporter": "python",
   "pygments_lexer": "ipython3",
   "version": "3.11.5"
  }
 },
 "nbformat": 4,
 "nbformat_minor": 5
}
