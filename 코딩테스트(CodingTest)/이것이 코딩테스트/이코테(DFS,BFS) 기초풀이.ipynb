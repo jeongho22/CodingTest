{
 "cells": [
  {
   "cell_type": "code",
   "execution_count": 27,
   "id": "45a7c92c",
   "metadata": {},
   "outputs": [
    {
     "name": "stdout",
     "output_type": "stream",
     "text": [
      "4 5\n",
      "00110\n",
      "00011\n",
      "11111\n",
      "00000\n",
      "3\n"
     ]
    }
   ],
   "source": [
    "# DFS로 특정 노드를 방문하고 연결된 모든 노드들도 방문\n",
    "def dfs(x,y):\n",
    "\n",
    "    # 주어진 범위를 벗어나는 경우에는 즉시 종료\n",
    "    if x<= -1 or x>=n or y<=-1 or y>=m:\n",
    "        return False\n",
    "\n",
    "    # 현재 노드를 아직 방문 하지않았다면\n",
    "    if graph[x][y] == 0:\n",
    "\n",
    "        #해당 노드 방문처리\n",
    "        graph[x][y] =1\n",
    "\n",
    "        # 상,하 ,좌,우 위치들도 모두 재귀적으로 호출\n",
    "        dfs(x-1,y)\n",
    "        dfs(x,y-1)\n",
    "        dfs(x+1,y)\n",
    "        dfs(x,y+1)\n",
    "\n",
    "        return True\n",
    "\n",
    "    return False\n",
    "\n",
    "\n",
    "\n",
    "# n,m 을 공백을 기준으로 구분하여 입력받기 \n",
    "n,m = map(int,input().split())\n",
    "\n",
    "\n",
    "# 2차원 리스트의 맵 정보 입력 받기\n",
    "graph=[]\n",
    "\n",
    "# 모든 노드(위치)에 대하여 음료수 채우기\n",
    "for i in range(n):\n",
    "    graph.append(list(map(int,input())))\n",
    "\n",
    "result =0 \n",
    "\n",
    "for i in range(n):\n",
    "    for j in range(m):\n",
    "        # 현재 위치에서 DFS 수행 \n",
    "        if dfs(i,j) == True:\n",
    "            result+=1\n",
    "\n",
    "print(result)\n",
    "\n",
    "\n",
    "\n",
    "\n",
    "# 출력예시 4 5\n",
    "\n",
    "# 00110\n",
    "# 00011\n",
    "# 11111\n",
    "# 00000"
   ]
  },
  {
   "cell_type": "markdown",
   "id": "c1194b1d",
   "metadata": {},
   "source": [
    "# 미로탈출 (최단거리 알고리즘)"
   ]
  },
  {
   "cell_type": "code",
   "execution_count": 3,
   "id": "c2d51908",
   "metadata": {},
   "outputs": [
    {
     "name": "stdout",
     "output_type": "stream",
     "text": [
      "5 7\n",
      "1111111\n",
      "1111111\n",
      "1111111\n",
      "1111111\n",
      "1111111\n",
      "11\n"
     ]
    }
   ],
   "source": [
    "# \n",
    "def bfs(x,y):\n",
    "    queue =deque()\n",
    "    queue.append((x,y))\n",
    "    \n",
    "    while queue:\n",
    "        x,y = queue.popleft()\n",
    "        \n",
    "        # 현재 위치에서 4가지 방향으로 위치확인\n",
    "        for i in range(4):\n",
    "            nx= x + dx[i]\n",
    "            ny= y + dy[i]\n",
    "            \n",
    "            #미로 찾기 공간 벗어나면 멈춤\n",
    "            if nx <0 or nx>=n or ny<0 or ny>=m:\n",
    "                continue\n",
    "            #괴물이 있는 경우 멈춤\n",
    "            if graph[nx][ny] ==0 :\n",
    "                continue\n",
    "            #해당 노드를 처음 방문하면 최단거리 1->2->3... 씩늘려감\n",
    "            if graph[nx][ny] ==1:\n",
    "                \n",
    "                # 기존 노드에서 1씩추가 \n",
    "                graph[nx][ny] = graph[x][y] +1\n",
    "                queue.append((nx,ny))\n",
    "                \n",
    "                \n",
    "    return graph[n-1][m-1]\n",
    "\n",
    "\n",
    "\n",
    "from collections import deque\n",
    "\n",
    "n,m = map(int,input().split())\n",
    "\n",
    "graph =[]\n",
    "\n",
    "\n",
    "for i in range(n):\n",
    "    graph.append(list(map(int,input())))\n",
    "\n",
    "\n",
    "dx = [-1,1,0,0]\n",
    "dy = [0,0,-1,1]\n",
    "\n",
    "\n",
    "print(bfs(0,0))\n",
    "\n",
    "# 3 4\n",
    "# 1111\n",
    "# 1111\n",
    "# 1111\n",
    "\n",
    "# 6"
   ]
  },
  {
   "cell_type": "code",
   "execution_count": null,
   "id": "1f33e45c",
   "metadata": {},
   "outputs": [],
   "source": []
  }
 ],
 "metadata": {
  "kernelspec": {
   "display_name": "Python 3 (ipykernel)",
   "language": "python",
   "name": "python3"
  },
  "language_info": {
   "codemirror_mode": {
    "name": "ipython",
    "version": 3
   },
   "file_extension": ".py",
   "mimetype": "text/x-python",
   "name": "python",
   "nbconvert_exporter": "python",
   "pygments_lexer": "ipython3",
   "version": "3.11.5"
  }
 },
 "nbformat": 4,
 "nbformat_minor": 5
}
