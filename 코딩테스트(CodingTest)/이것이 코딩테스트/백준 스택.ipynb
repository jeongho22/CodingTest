{
 "cells": [
  {
   "cell_type": "code",
   "execution_count": 9,
   "id": "3356ecd3",
   "metadata": {},
   "outputs": [
    {
     "name": "stdout",
     "output_type": "stream",
     "text": [
      "3\n",
      "2\n",
      "4\n",
      "3\n",
      "-1\n",
      "1\n",
      "0\n"
     ]
    }
   ],
   "source": [
    "#1. 스택\n",
    "\n",
    "n = int(input())\n",
    "stack=[]\n",
    "result=[]\n",
    "\n",
    "for _ in range(n):\n",
    "    command = input().split()\n",
    "    \n",
    "    if command[0]==\"1\":\n",
    "        stack.append(int(command[1]))\n",
    "    elif command[0]==\"2\":\n",
    "        if len(stack) != 0:\n",
    "            result.append(stack.pop())\n",
    "        else:\n",
    "            result.append(-1)\n",
    "    elif command[0]==\"3\":\n",
    "        result.append(len(stack))\n",
    "    elif command[0]==\"4\":\n",
    "        if len(stack) == 0:\n",
    "            result.append(1)\n",
    "        else:\n",
    "            result.append(0)\n",
    "    elif command[0]==\"5\":\n",
    "        if len(stack) != 0:\n",
    "            result.append(stack[-1])\n",
    "        else:\n",
    "            result.append(-1)\n",
    "            \n",
    "for results in result:\n",
    "    print(results)\n"
   ]
  },
  {
   "cell_type": "code",
   "execution_count": null,
   "id": "b6e104b9",
   "metadata": {},
   "outputs": [],
   "source": [
    "#2. 제로\n",
    "\n",
    "\n",
    "n = int(input())\n",
    "\n",
    "stack=[]\n",
    "\n",
    "for _ in range(n):\n",
    "    s= input()\n",
    "    if s==\"0\":\n",
    "        stack.pop()\n",
    "    else:\n",
    "        stack.append(int(s))\n",
    "        \n",
    "print(sum(stack))"
   ]
  },
  {
   "cell_type": "code",
   "execution_count": 89,
   "id": "4f07f559",
   "metadata": {},
   "outputs": [
    {
     "name": "stdout",
     "output_type": "stream",
     "text": [
      "10\n",
      "4\n"
     ]
    }
   ],
   "source": [
    "#3. 카드 시간초과\n",
    "\n",
    "n= int(input())\n",
    "\n",
    "\n",
    "stack=[]\n",
    "for i in range(1,n+1):\n",
    "    stack.append(i)\n",
    "\n",
    "card=sorted(stack,reverse=True)\n",
    "    \n",
    "while True:\n",
    "    card.pop()\n",
    "    card.insert(0,card.pop())\n",
    "    \n",
    "    if len(card) ==1:\n",
    "        break\n",
    "\n",
    "print(card[0])\n",
    "\n"
   ]
  },
  {
   "cell_type": "code",
   "execution_count": 98,
   "id": "1065d11a",
   "metadata": {},
   "outputs": [
    {
     "name": "stdout",
     "output_type": "stream",
     "text": [
      "4\n",
      "deque([1, 2, 3, 4])\n",
      "deque([3, 4, 2])\n",
      "deque([2, 4])\n",
      "4\n"
     ]
    }
   ],
   "source": [
    "#4. 카드 시간적합\n",
    "\n",
    "from collections import deque\n",
    "\n",
    "n = int(input())\n",
    "arr = deque()\n",
    "for i in range(1,n+1):\n",
    "    arr.append(i)\n",
    "\n",
    "while (len(arr)>1):\n",
    "    print(arr)\n",
    "    del arr[0]\n",
    "    x = arr.popleft()\n",
    "    arr.append(x)\n",
    "    \n",
    "print(arr[0])\n"
   ]
  },
  {
   "cell_type": "code",
   "execution_count": 107,
   "id": "2763dbf4",
   "metadata": {},
   "outputs": [
    {
     "name": "stdout",
     "output_type": "stream",
     "text": [
      "2\n",
      "2\n"
     ]
    }
   ],
   "source": [
    "#5. 큐2\n",
    "\n",
    "# arr.pop()은 큐의 오른쪽(뒷부분)에서 요소를 제거합니다. \n",
    "# 하지만 큐에서는 보통 가장 앞부분의 요소를 제거해야 하므로, arr.popleft()\n",
    "\n",
    "from collections import deque\n",
    "\n",
    "n = int(input())\n",
    "queue = deque()\n",
    "results = []  # 결과를 저장할 리스트\n",
    "\n",
    "for _ in range(n):\n",
    "    command = input().split()\n",
    "\n",
    "    if command[0] == \"push\":\n",
    "        queue.append(int(command[1]))\n",
    "    elif command[0] == \"pop\":\n",
    "        results.append(-1 if not queue else queue.popleft())\n",
    "    elif command[0] == \"size\":\n",
    "        results.append(len(queue))\n",
    "    elif command[0] == \"empty\":\n",
    "        results.append(0 if queue else 1)\n",
    "    elif command[0] == \"front\":\n",
    "        results.append(queue[0] if queue else -1)\n",
    "    elif command[0] == \"back\":\n",
    "        results.append(queue[-1] if queue else -1)\n",
    "\n",
    "# 모든 명령어 처리 후 결과 출력\n",
    "for result in results:\n",
    "    print(result)\n",
    "\n"
   ]
  },
  {
   "cell_type": "code",
   "execution_count": 19,
   "id": "123bfd40",
   "metadata": {},
   "outputs": [
    {
     "name": "stdout",
     "output_type": "stream",
     "text": [
      "11\n",
      "6\n",
      "1 3\n",
      "1 8\n",
      "7\n",
      "8\n",
      "3\n",
      "2 5\n",
      "1 2\n",
      "5\n",
      "4\n",
      "4\n",
      "1\n",
      "8\n",
      "3\n",
      "8\n",
      "3\n",
      "5\n",
      "3\n"
     ]
    }
   ],
   "source": [
    "#6. 덱 2\n",
    "\n",
    "from collections import deque\n",
    "\n",
    "n= int(input())\n",
    "\n",
    "arr = deque()\n",
    "result=[]\n",
    "\n",
    "for _ in range(n):\n",
    "    command = input().split()\n",
    "\n",
    "    if command[0] == \"1\":\n",
    "        arr.appendleft(int(command[1]))\n",
    "    elif command[0] ==\"2\":\n",
    "        arr.append(int(command[1]))\n",
    "    elif command[0] ==\"3\":\n",
    "        if len(arr) !=0:\n",
    "            result.append(arr.popleft())\n",
    "        else:\n",
    "            result.append(-1)\n",
    "    elif command[0] ==\"4\":\n",
    "        if len(arr) !=0:\n",
    "            result.append(arr.pop())\n",
    "        else:\n",
    "            result.append(-1)\n",
    "    elif command[0] ==\"5\":\n",
    "        result.append(len(arr))\n",
    "    elif command[0] ==\"6\":\n",
    "        if len(arr) !=0:\n",
    "            result.append(0)\n",
    "        else:\n",
    "            result.append(1)\n",
    "    elif command[0] ==\"7\":\n",
    "        if len(arr) !=0:\n",
    "            result.append(arr[0])\n",
    "        else:\n",
    "            result.append(-1)\n",
    "    elif command[0] ==\"8\":\n",
    "        if len(arr) !=0:\n",
    "            result.append(arr[-1])\n",
    "        else:\n",
    "            result.append(-1)\n",
    "        \n",
    "        \n",
    "\n",
    "for results in result:\n",
    "    print(results)\n",
    "        \n",
    "\n",
    "        "
   ]
  },
  {
   "cell_type": "code",
   "execution_count": 87,
   "id": "96be848c",
   "metadata": {},
   "outputs": [
    {
     "name": "stdout",
     "output_type": "stream",
     "text": [
      "asdf\n",
      "f\n",
      "asd\n"
     ]
    }
   ],
   "source": [
    "# 문자열박살\n",
    "\n",
    "n= input()\n",
    "k = input()\n",
    "\n",
    "stack = []\n",
    "\n",
    "\n",
    "for char in n:\n",
    "    stack.append(char)\n",
    "    \n",
    "    if len(stack)>= len(k):\n",
    "        if ''.join(stack[-len(k):]) == k:\n",
    "            del stack[-len(k):]\n",
    "            \n",
    "            \n",
    "        \n",
    "if len(stack)!=0:\n",
    "    print(''.join(stack))\n",
    "else:\n",
    "    print(\"FRULA\")\n",
    "    "
   ]
  },
  {
   "cell_type": "code",
   "execution_count": null,
   "id": "5dcb191c",
   "metadata": {},
   "outputs": [],
   "source": []
  }
 ],
 "metadata": {
  "kernelspec": {
   "display_name": "Python 3 (ipykernel)",
   "language": "python",
   "name": "python3"
  },
  "language_info": {
   "codemirror_mode": {
    "name": "ipython",
    "version": 3
   },
   "file_extension": ".py",
   "mimetype": "text/x-python",
   "name": "python",
   "nbconvert_exporter": "python",
   "pygments_lexer": "ipython3",
   "version": "3.11.5"
  }
 },
 "nbformat": 4,
 "nbformat_minor": 5
}
