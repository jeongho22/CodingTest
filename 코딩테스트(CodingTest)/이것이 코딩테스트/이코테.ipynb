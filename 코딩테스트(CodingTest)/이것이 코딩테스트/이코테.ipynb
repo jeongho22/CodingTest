{
 "cells": [
  {
   "cell_type": "code",
   "execution_count": 21,
   "id": "8c1106e3",
   "metadata": {},
   "outputs": [
    {
     "name": "stdout",
     "output_type": "stream",
     "text": [
      "\"!@#$%^&*()'\n"
     ]
    }
   ],
   "source": [
    "# \"!@#$%^&*()'  을 출력하시오 \n",
    "\n",
    "\n",
    "\n",
    "print(\"\\\"!@#$%^&*()'\")"
   ]
  },
  {
   "cell_type": "code",
   "execution_count": 33,
   "id": "ccdc6670",
   "metadata": {},
   "outputs": [
    {
     "name": "stdout",
     "output_type": "stream",
     "text": [
      "\"C:\\Download\\'hello'.py\"\n"
     ]
    }
   ],
   "source": [
    "# \"C:\\Download\\'hello'.py\" 출력하시오\n",
    "\n",
    "\n",
    "print(\"\\\"C:\\\\Download\\\\'hello'.py\\\"\")"
   ]
  },
  {
   "cell_type": "code",
   "execution_count": 55,
   "id": "c7b59da3",
   "metadata": {},
   "outputs": [
    {
     "name": "stdout",
     "output_type": "stream",
     "text": [
      "Hello\n",
      "World\n",
      "print(\"Hello\\nWorld\")\n"
     ]
    }
   ],
   "source": [
    "# 윗문장 출력\n",
    "\n",
    "print(\"Hello\\nWorld\")\n",
    "\n",
    "print(\"print(\\\"Hello\\\\nWorld\\\")\")"
   ]
  },
  {
   "cell_type": "code",
   "execution_count": 104,
   "id": "8a6ddcf8",
   "metadata": {},
   "outputs": [
    {
     "name": "stdout",
     "output_type": "stream",
     "text": [
      "1\n",
      "small\n"
     ]
    }
   ],
   "source": [
    "# 10보다 작은 수가 입력되면 small 을 출력, 10이상이면 아무것도 출력하지 마시오.\n",
    "\n",
    "\n",
    "\n",
    "n = int(input())\n",
    "\n",
    "if n < 10:\n",
    "    print(\"small\")\n",
    "elif n >= 10:\n",
    "    None # 10 이상이면 아무것도 출력하지 않음"
   ]
  },
  {
   "cell_type": "markdown",
   "id": "827d25af",
   "metadata": {},
   "source": [
    "###### "
   ]
  },
  {
   "cell_type": "code",
   "execution_count": 110,
   "id": "e03fd0cb",
   "metadata": {},
   "outputs": [
    {
     "name": "stdout",
     "output_type": "stream",
     "text": [
      ">\n"
     ]
    }
   ],
   "source": [
    "# a가 b보다 크면  > 를 출력,\n",
    "\n",
    "# b가 a보다 크면  < 를 출력,\n",
    "\n",
    "# a와 b가 같으면  = 를 출력한다.\n",
    "a=10\n",
    "a=20\n",
    "\n",
    "\n",
    "if a > b:\n",
    "    print(\">\")\n",
    "elif a < b:\n",
    "    print(\"<\")\n",
    "else:\n",
    "    print(\"=\")"
   ]
  },
  {
   "cell_type": "code",
   "execution_count": null,
   "id": "23a5b9f4",
   "metadata": {},
   "outputs": [],
   "source": [
    "a,b = map(int, input().split())\n",
    "\n",
    "if a > b:\n",
    "    print(\">\")\n",
    "elif a < b:\n",
    "    print(\"<\")\n",
    "else:\n",
    "    print(\"=\")"
   ]
  },
  {
   "cell_type": "code",
   "execution_count": null,
   "id": "b2969087",
   "metadata": {},
   "outputs": [],
   "source": []
  }
 ],
 "metadata": {
  "kernelspec": {
   "display_name": "Python 3 (ipykernel)",
   "language": "python",
   "name": "python3"
  },
  "language_info": {
   "codemirror_mode": {
    "name": "ipython",
    "version": 3
   },
   "file_extension": ".py",
   "mimetype": "text/x-python",
   "name": "python",
   "nbconvert_exporter": "python",
   "pygments_lexer": "ipython3",
   "version": "3.11.5"
  }
 },
 "nbformat": 4,
 "nbformat_minor": 5
}
