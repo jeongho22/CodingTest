{
 "cells": [
  {
   "cell_type": "code",
   "execution_count": 14,
   "id": "1dbe2e6d",
   "metadata": {},
   "outputs": [
    {
     "name": "stdout",
     "output_type": "stream",
     "text": [
      "[0, 1, 2, 3, 4, 5, 6, 7, 8, 9]\n"
     ]
    }
   ],
   "source": [
    "#1. 배열에 숫자 넣기\n",
    "\n",
    "list=[]\n",
    "for i in range(10):\n",
    "    list.append(i)\n",
    "\n",
    "print(list)\n"
   ]
  },
  {
   "cell_type": "code",
   "execution_count": 15,
   "id": "b8f9a1a5",
   "metadata": {},
   "outputs": [
    {
     "name": "stdout",
     "output_type": "stream",
     "text": [
      "[0, 1, 2, 3, 4, 5, 6, 7, 8, 9]\n"
     ]
    }
   ],
   "source": [
    "#1-2. 배열에 숫자 넣기\n",
    "\n",
    "list = [i for i in range(10)]\n",
    "\n",
    "print(list)"
   ]
  },
  {
   "cell_type": "code",
   "execution_count": 16,
   "id": "98ac1399",
   "metadata": {},
   "outputs": [
    {
     "name": "stdout",
     "output_type": "stream",
     "text": [
      "[1, 3, 5, 7, 9, 11, 13, 15, 17, 19]\n"
     ]
    }
   ],
   "source": [
    "#2. 0~19 까지 홀수만 추출하기\n",
    "\n",
    "\n",
    "list =[]\n",
    "\n",
    "for i in range(20):\n",
    "    if i% 2==1:\n",
    "        list.append(i)\n",
    "\n",
    "print(list)"
   ]
  },
  {
   "cell_type": "code",
   "execution_count": 29,
   "id": "74431dab",
   "metadata": {},
   "outputs": [
    {
     "name": "stdout",
     "output_type": "stream",
     "text": [
      "[0, 1, 4, 9, 16, 25, 36, 49, 64, 81, 100, 121, 144, 169, 196, 225, 256, 289, 324, 361]\n"
     ]
    }
   ],
   "source": [
    "#3. n^2 들만 추출하기\n",
    "list=[]\n",
    "\n",
    "for i in range(20):\n",
    "    list.append(i*i)\n",
    "    \n",
    "print(list)"
   ]
  },
  {
   "cell_type": "code",
   "execution_count": 32,
   "id": "43b24928",
   "metadata": {},
   "outputs": [
    {
     "name": "stdout",
     "output_type": "stream",
     "text": [
      "good\n",
      "good\n",
      "good\n",
      "good\n",
      "good\n",
      "good\n",
      "good\n",
      "good\n",
      "good\n",
      "good\n"
     ]
    }
   ],
   "source": [
    "# 4. 문자열 같은 경우에는 반복할때 값을 무시하기위해 _ 를씀\n",
    "\n",
    "for _ in range(10):\n",
    "    print(\"good\")"
   ]
  },
  {
   "cell_type": "code",
   "execution_count": 34,
   "id": "540ecd06",
   "metadata": {},
   "outputs": [
    {
     "name": "stdout",
     "output_type": "stream",
     "text": [
      "5050\n"
     ]
    }
   ],
   "source": [
    "#5. 1부터 100까지 더하기 \n",
    "\n",
    "total = 0\n",
    "\n",
    "for i in range(101):\n",
    "    total+=i\n",
    "\n",
    "print(total)"
   ]
  },
  {
   "cell_type": "code",
   "execution_count": 43,
   "id": "39133b4f",
   "metadata": {},
   "outputs": [
    {
     "name": "stdout",
     "output_type": "stream",
     "text": [
      "[[0, 0, 0], [0, 0, 0], [0, 0, 0], [0, 0, 0]]\n"
     ]
    }
   ],
   "source": [
    "#6. 리스트 컴프리헨션 NXM \n",
    "\n",
    "# 2차원 리스트 초기화 행이 4이고 열이 3\n",
    "\n",
    "n=4\n",
    "m=3 \n",
    "\n",
    "list = [[0]*m for i in range(n)]\n",
    "\n",
    "print(list)"
   ]
  },
  {
   "cell_type": "code",
   "execution_count": 76,
   "id": "119833a4",
   "metadata": {},
   "outputs": [
    {
     "name": "stdout",
     "output_type": "stream",
     "text": [
      "50\n",
      "['정호', '정호', '유정', '유정', '유정', '유정', '유정', '유정', '유정', '유정', '유정', '유정', '유정', '유정', '유정', '유정', '유정', '유정', '유정', '유정', '유정', '유정', '유정', '유정', '유정', '유정', '유정', '유정', '유정', '유정', '유정', '유정', '유정', '유정', '유정', '유정', '유정', '유정', '유정', '유정', '유정', '정호', '정호', '유정', '정호', '정호', '유정', '정호', '정호', '유정']\n",
      "42\n"
     ]
    }
   ],
   "source": [
    "#7. 리스트안에 특정 원소값을 삭제하는 함수를 작성하여라\n",
    "\n",
    "list =[1,2,3,\"정호\",\"정호\",\"유정\",\"코코\",\"유정\",\"유정\",\"유정\",\"유정\",\"유정\",\"유정\",\n",
    "       \"유정\",\"유정\",\"유정\",\"유정\",\"유정\",\"유정\",\"유정\",\"유정\",\"유정\",\"유정\",\"유정\",\"유정\",\n",
    "       \"유정\",\"유정\",\"유정\",\"유정\",\"유정\",\"유정\",\"유정\",\"유정\",\n",
    "       \"유정\",\"유정\",\"유정\",\"유정\",\"유정\",\"유정\",\"유정\",\"유정\",\"유정\",\"유정\",\"유정\",\"유정\",\"정호\",\"정호\"\n",
    "       ,\"유정\",\"정호\",\"정호\",\"유정\",\"정호\",\"정호\",\"유정\"]\n",
    "\n",
    "\n",
    "remove_list = {\"정호\",\"유정\"}\n",
    "\n",
    "\n",
    "result= [i for i in list if i in remove_list]\n",
    "\n",
    "\n",
    "print(len(result))\n",
    "print(result)\n",
    "print(result.count(\"유정\"))"
   ]
  },
  {
   "cell_type": "code",
   "execution_count": 79,
   "id": "7d1124d9",
   "metadata": {},
   "outputs": [
    {
     "name": "stdout",
     "output_type": "stream",
     "text": [
      "Hello \"python\"\n"
     ]
    }
   ],
   "source": [
    "# 8. 파이썬 기본 (백슬래쉬+따옴표)\n",
    "\n",
    "a = \"Hello \\\"python\\\"\"\n",
    "\n",
    "print(a)"
   ]
  },
  {
   "cell_type": "code",
   "execution_count": 83,
   "id": "10856f0a",
   "metadata": {},
   "outputs": [
    {
     "name": "stdout",
     "output_type": "stream",
     "text": [
      "(1, 2, 3, 4, 5, 6, 7)\n",
      "4\n"
     ]
    }
   ],
   "source": [
    "# 9. 튜플 변경은 불가능 (해싱키값으로 사용가능, 서로다른성질)\n",
    "\n",
    "\n",
    "a = (1,2,3,4,5,6,7)\n",
    "\n",
    "print(a)\n",
    "\n",
    "print(a[3])"
   ]
  },
  {
   "cell_type": "code",
   "execution_count": 108,
   "id": "b23029a7",
   "metadata": {},
   "outputs": [
    {
     "name": "stdout",
     "output_type": "stream",
     "text": [
      "{'1': '사과', '2': '곶감', '3': '배'}\n",
      "dict_keys(['1', '2', '3'])\n",
      "dict_values(['사과', '곶감', '배'])\n",
      "1\n",
      "사과\n",
      "2\n",
      "곶감\n",
      "3\n",
      "배\n"
     ]
    }
   ],
   "source": [
    "# 10. 사전 자료형 {키:값} \n",
    "\n",
    "data = dict()\n",
    "\n",
    "data['1'] = \"사과\"\n",
    "data['2'] = \"곶감\"\n",
    "data['3'] = \"배\"\n",
    "\n",
    "print(data)\n",
    "print(data.keys())\n",
    "print(data.values())\n",
    "\n",
    "data_key = data.keys()\n",
    "\n",
    "for key in data_key:\n",
    "    print(key)         ## 키값\n",
    "    print(data[key])   ## 밸류값"
   ]
  },
  {
   "cell_type": "code",
   "execution_count": 111,
   "id": "65a129de",
   "metadata": {},
   "outputs": [
    {
     "name": "stdout",
     "output_type": "stream",
     "text": [
      "{1, 2, 3}\n",
      "{1, 2, 3, 4}\n"
     ]
    }
   ],
   "source": [
    "#11. , 집합자료형 중복을 허용안함\n",
    "\n",
    "\n",
    "data = set([1,2,1,2,3])\n",
    "\n",
    "print(data)\n",
    "\n",
    "\n",
    "data= {1,2,1,2,3,4}\n",
    "print(data)"
   ]
  },
  {
   "cell_type": "code",
   "execution_count": 126,
   "id": "e011818a",
   "metadata": {},
   "outputs": [
    {
     "name": "stdout",
     "output_type": "stream",
     "text": [
      "123\n",
      "123\n"
     ]
    },
    {
     "ename": "TypeError",
     "evalue": "'tuple' object is not callable",
     "output_type": "error",
     "traceback": [
      "\u001b[1;31m---------------------------------------------------------------------------\u001b[0m",
      "\u001b[1;31mTypeError\u001b[0m                                 Traceback (most recent call last)",
      "Cell \u001b[1;32mIn[126], line 10\u001b[0m\n\u001b[0;32m      1\u001b[0m \u001b[38;5;66;03m#12. 자주 사용되는 표준 입력 방법\u001b[39;00m\n\u001b[0;32m      2\u001b[0m \n\u001b[0;32m      3\u001b[0m \u001b[38;5;66;03m# 1. A,B = map(int, input().split())\u001b[39;00m\n\u001b[0;32m      4\u001b[0m \u001b[38;5;66;03m# 2. list(map(int, input().split()))\u001b[39;00m\n\u001b[0;32m      9\u001b[0m n\u001b[38;5;241m=\u001b[39m \u001b[38;5;28mint\u001b[39m(\u001b[38;5;28minput\u001b[39m())                       \u001b[38;5;66;03m## 그냥담김\u001b[39;00m\n\u001b[1;32m---> 10\u001b[0m data\u001b[38;5;241m=\u001b[39m \u001b[38;5;28mlist\u001b[39m(\u001b[38;5;28mmap\u001b[39m(\u001b[38;5;28mint\u001b[39m,\u001b[38;5;28minput\u001b[39m()\u001b[38;5;241m.\u001b[39msplit())) \u001b[38;5;66;03m## 공백기준으로 나눠서 리스트에 담김\u001b[39;00m\n\u001b[0;32m     13\u001b[0m \u001b[38;5;28mprint\u001b[39m(n)\n\u001b[0;32m     14\u001b[0m \u001b[38;5;28mprint\u001b[39m(data)\n",
      "\u001b[1;31mTypeError\u001b[0m: 'tuple' object is not callable"
     ]
    }
   ],
   "source": [
    "\n",
    "#12. 자주 사용되는 표준 입력 방법\n",
    "\n",
    "# 1. A,B = map(int, input().split())\n",
    "# 2. list(map(int, input().split()))\n",
    "\n",
    "\n",
    "\n",
    "\n",
    "n= int(input())                         ## 그냥담김\n",
    "data= list(map(int,input().split()))    ## 공백기준으로 나눠서 리스트에 담김 (여러개)\n",
    "a,b,c = list(map(int,input().split()))  ## 데이터가 3개일때 \n",
    "\n",
    "\n",
    "print(n)\n",
    "print(data)\n",
    "\n"
   ]
  },
  {
   "cell_type": "code",
   "execution_count": 127,
   "id": "8895b409",
   "metadata": {},
   "outputs": [],
   "source": [
    "# 13. 인풋보다 입력을 빨리 받고 싶으면 sys.stdin.readline()\n",
    "# 단, rstrip 메서드 사용 "
   ]
  },
  {
   "cell_type": "code",
   "execution_count": 128,
   "id": "78cea74a",
   "metadata": {},
   "outputs": [
    {
     "name": "stdout",
     "output_type": "stream",
     "text": [
      "\n"
     ]
    }
   ],
   "source": [
    "import sys\n",
    "data = sys.stdin.readline().rstrip()\n",
    "print(data)"
   ]
  },
  {
   "cell_type": "code",
   "execution_count": 130,
   "id": "00b2ef50",
   "metadata": {},
   "outputs": [
    {
     "name": "stdout",
     "output_type": "stream",
     "text": [
      "1\n",
      "3\n",
      "78"
     ]
    }
   ],
   "source": [
    "a=1\n",
    "b=3\n",
    "c=5\n",
    "\n",
    "print(a)\n",
    "print(b)\n",
    "print(7, end='')\n",
    "print(8, end='')"
   ]
  },
  {
   "cell_type": "code",
   "execution_count": 149,
   "id": "57e36138",
   "metadata": {},
   "outputs": [
    {
     "name": "stdout",
     "output_type": "stream",
     "text": [
      "True\n",
      "True\n",
      "bad\n",
      "exit\n"
     ]
    }
   ],
   "source": [
    "## 14. 조건문 \n",
    "\n",
    "# 딱히 할게없음. \n",
    "\n",
    "# x in 리스트\n",
    "# x not in 문자열 \n",
    "\n",
    "# 이거나 기억해두자 \n",
    "\n",
    "#1.\n",
    "list =[\"x\",\"y\"]\n",
    "\n",
    "print(\"x\" in list)\n",
    "\n",
    "\n",
    "#2.\n",
    "print(\"x\" not in \"1c\")\n",
    "\n",
    "\n"
   ]
  },
  {
   "cell_type": "code",
   "execution_count": 150,
   "id": "785c9e64",
   "metadata": {},
   "outputs": [
    {
     "name": "stdout",
     "output_type": "stream",
     "text": [
      "bad\n",
      "exit\n"
     ]
    }
   ],
   "source": [
    "#3.\n",
    "\n",
    "score = 84\n",
    "\n",
    "if score >= 85:\n",
    "    pass\n",
    "else:\n",
    "    print(\"bad\")\n",
    "    \n",
    "print(\"exit\")"
   ]
  },
  {
   "cell_type": "code",
   "execution_count": 160,
   "id": "0f24daf8",
   "metadata": {},
   "outputs": [
    {
     "name": "stdout",
     "output_type": "stream",
     "text": [
      "1\n",
      "2\n",
      "3\n",
      "4\n",
      "5\n",
      "6\n",
      "7\n",
      "8\n"
     ]
    }
   ],
   "source": [
    "## 15.반복문\n",
    "\n",
    "# for 변수 in 리스트:\n",
    "#       실행코드\n",
    "\n",
    "a = [1,2,3,4,5,6,7,8]\n",
    "\n",
    "for i in a:\n",
    "    print(i)\n",
    "\n",
    "\n",
    "\n"
   ]
  },
  {
   "cell_type": "code",
   "execution_count": 164,
   "id": "16bcf559",
   "metadata": {},
   "outputs": [
    {
     "name": "stdout",
     "output_type": "stream",
     "text": [
      "45\n",
      "2500\n"
     ]
    }
   ],
   "source": [
    "\n",
    "#1~9 까지 합산\n",
    "\n",
    "total =0\n",
    "\n",
    "for i in range(1,10):\n",
    "    total+=i\n",
    "    \n",
    "print(total)\n",
    "\n",
    "\n",
    "#1~100까지 홀수만 합산\n",
    "\n",
    "total = 0 \n",
    "\n",
    "for i in range(1,101):\n",
    "    if i % 2 == 1:\n",
    "        total+=i\n",
    "\n",
    "print(total)"
   ]
  },
  {
   "cell_type": "code",
   "execution_count": 185,
   "id": "30e0d2e3",
   "metadata": {},
   "outputs": [
    {
     "name": "stdout",
     "output_type": "stream",
     "text": [
      "4 번 학생은 90 점으로 합격\n",
      "5 번 학생은 100 점으로 합격\n",
      "10 번 학생은 88 점으로 합격\n"
     ]
    }
   ],
   "source": [
    "# 80점만 넘으면 합격 \n",
    "\n",
    "a= [50,70,80,90,100,55,60,77,54,88,44,33,22,55,100]\n",
    "\n",
    "\n",
    "for i in range(14):\n",
    "    if a[i]>80:\n",
    "        print(i+1,\"번 학생은\",a[i],\"점으로 합격\")\n",
    "        "
   ]
  },
  {
   "cell_type": "code",
   "execution_count": 1,
   "id": "83fdc029",
   "metadata": {},
   "outputs": [
    {
     "name": "stdout",
     "output_type": "stream",
     "text": [
      "4 번 학생은 90 점으로 합격\n"
     ]
    }
   ],
   "source": [
    "# 80점만 넘으면 합격 ,5번 10번은 부정행위\n",
    "\n",
    "a= [50,70,80,90,100,55,60,77,54,88,44,33,22,55,100]\n",
    "b = {5,10}\n",
    "\n",
    "for i in range(14):\n",
    "    if i+1 in b:\n",
    "        continue\n",
    "    if a[i]>80:\n",
    "        print(i+1,\"번 학생은\",a[i],\"점으로 합격\")\n",
    "        "
   ]
  },
  {
   "cell_type": "code",
   "execution_count": 217,
   "id": "876f83f3",
   "metadata": {},
   "outputs": [
    {
     "name": "stdout",
     "output_type": "stream",
     "text": [
      "2 X 2 X 3 = 12\n",
      "2 X 2 X 4 = 16\n",
      "2 X 2 X 5 = 20\n",
      "2 X 2 X 6 = 24\n",
      "2 X 2 X 7 = 28\n",
      "2 X 3 X 3 = 18\n",
      "2 X 3 X 4 = 24\n",
      "2 X 3 X 5 = 30\n",
      "2 X 3 X 6 = 36\n",
      "2 X 3 X 7 = 42\n",
      "2 X 4 X 3 = 24\n",
      "2 X 4 X 4 = 32\n",
      "2 X 4 X 5 = 40\n",
      "2 X 4 X 6 = 48\n",
      "2 X 4 X 7 = 56\n",
      "2 X 5 X 3 = 30\n",
      "2 X 5 X 4 = 40\n",
      "2 X 5 X 5 = 50\n",
      "2 X 5 X 6 = 60\n",
      "2 X 5 X 7 = 70\n",
      "2 X 6 X 3 = 36\n",
      "2 X 6 X 4 = 48\n",
      "2 X 6 X 5 = 60\n",
      "2 X 6 X 6 = 72\n",
      "2 X 6 X 7 = 84\n",
      "2 X 7 X 3 = 42\n",
      "2 X 7 X 4 = 56\n",
      "2 X 7 X 5 = 70\n",
      "2 X 7 X 6 = 84\n",
      "2 X 7 X 7 = 98\n",
      "2 X 8 X 3 = 48\n",
      "2 X 8 X 4 = 64\n",
      "2 X 8 X 5 = 80\n",
      "2 X 8 X 6 = 96\n",
      "2 X 8 X 7 = 112\n",
      "3 X 2 X 3 = 18\n",
      "3 X 2 X 4 = 24\n",
      "3 X 2 X 5 = 30\n",
      "3 X 2 X 6 = 36\n",
      "3 X 2 X 7 = 42\n",
      "3 X 3 X 3 = 27\n",
      "3 X 3 X 4 = 36\n",
      "3 X 3 X 5 = 45\n",
      "3 X 3 X 6 = 54\n",
      "3 X 3 X 7 = 63\n",
      "3 X 4 X 3 = 36\n",
      "3 X 4 X 4 = 48\n",
      "3 X 4 X 5 = 60\n",
      "3 X 4 X 6 = 72\n",
      "3 X 4 X 7 = 84\n",
      "3 X 5 X 3 = 45\n",
      "3 X 5 X 4 = 60\n",
      "3 X 5 X 5 = 75\n",
      "3 X 5 X 6 = 90\n",
      "3 X 5 X 7 = 105\n",
      "3 X 6 X 3 = 54\n",
      "3 X 6 X 4 = 72\n",
      "3 X 6 X 5 = 90\n",
      "3 X 6 X 6 = 108\n",
      "3 X 6 X 7 = 126\n",
      "3 X 7 X 3 = 63\n",
      "3 X 7 X 4 = 84\n",
      "3 X 7 X 5 = 105\n",
      "3 X 7 X 6 = 126\n",
      "3 X 7 X 7 = 147\n",
      "3 X 8 X 3 = 72\n",
      "3 X 8 X 4 = 96\n",
      "3 X 8 X 5 = 120\n",
      "3 X 8 X 6 = 144\n",
      "3 X 8 X 7 = 168\n",
      "4 X 2 X 3 = 24\n",
      "4 X 2 X 4 = 32\n",
      "4 X 2 X 5 = 40\n",
      "4 X 2 X 6 = 48\n",
      "4 X 2 X 7 = 56\n",
      "4 X 3 X 3 = 36\n",
      "4 X 3 X 4 = 48\n",
      "4 X 3 X 5 = 60\n",
      "4 X 3 X 6 = 72\n",
      "4 X 3 X 7 = 84\n",
      "4 X 4 X 3 = 48\n",
      "4 X 4 X 4 = 64\n",
      "4 X 4 X 5 = 80\n",
      "4 X 4 X 6 = 96\n",
      "4 X 4 X 7 = 112\n",
      "4 X 5 X 3 = 60\n",
      "4 X 5 X 4 = 80\n",
      "4 X 5 X 5 = 100\n",
      "4 X 5 X 6 = 120\n",
      "4 X 5 X 7 = 140\n",
      "4 X 6 X 3 = 72\n",
      "4 X 6 X 4 = 96\n",
      "4 X 6 X 5 = 120\n",
      "4 X 6 X 6 = 144\n",
      "4 X 6 X 7 = 168\n",
      "4 X 7 X 3 = 84\n",
      "4 X 7 X 4 = 112\n",
      "4 X 7 X 5 = 140\n",
      "4 X 7 X 6 = 168\n",
      "4 X 7 X 7 = 196\n",
      "4 X 8 X 3 = 96\n",
      "4 X 8 X 4 = 128\n",
      "4 X 8 X 5 = 160\n",
      "4 X 8 X 6 = 192\n",
      "4 X 8 X 7 = 224\n",
      "5 X 2 X 3 = 30\n",
      "5 X 2 X 4 = 40\n",
      "5 X 2 X 5 = 50\n",
      "5 X 2 X 6 = 60\n",
      "5 X 2 X 7 = 70\n",
      "5 X 3 X 3 = 45\n",
      "5 X 3 X 4 = 60\n",
      "5 X 3 X 5 = 75\n",
      "5 X 3 X 6 = 90\n",
      "5 X 3 X 7 = 105\n",
      "5 X 4 X 3 = 60\n",
      "5 X 4 X 4 = 80\n",
      "5 X 4 X 5 = 100\n",
      "5 X 4 X 6 = 120\n",
      "5 X 4 X 7 = 140\n",
      "5 X 5 X 3 = 75\n",
      "5 X 5 X 4 = 100\n",
      "5 X 5 X 5 = 125\n",
      "5 X 5 X 6 = 150\n",
      "5 X 5 X 7 = 175\n",
      "5 X 6 X 3 = 90\n",
      "5 X 6 X 4 = 120\n",
      "5 X 6 X 5 = 150\n",
      "5 X 6 X 6 = 180\n",
      "5 X 6 X 7 = 210\n",
      "5 X 7 X 3 = 105\n",
      "5 X 7 X 4 = 140\n",
      "5 X 7 X 5 = 175\n",
      "5 X 7 X 6 = 210\n",
      "5 X 7 X 7 = 245\n",
      "5 X 8 X 3 = 120\n",
      "5 X 8 X 4 = 160\n",
      "5 X 8 X 5 = 200\n",
      "5 X 8 X 6 = 240\n",
      "5 X 8 X 7 = 280\n",
      "6 X 2 X 3 = 36\n",
      "6 X 2 X 4 = 48\n",
      "6 X 2 X 5 = 60\n",
      "6 X 2 X 6 = 72\n",
      "6 X 2 X 7 = 84\n",
      "6 X 3 X 3 = 54\n",
      "6 X 3 X 4 = 72\n",
      "6 X 3 X 5 = 90\n",
      "6 X 3 X 6 = 108\n",
      "6 X 3 X 7 = 126\n",
      "6 X 4 X 3 = 72\n",
      "6 X 4 X 4 = 96\n",
      "6 X 4 X 5 = 120\n",
      "6 X 4 X 6 = 144\n",
      "6 X 4 X 7 = 168\n",
      "6 X 5 X 3 = 90\n",
      "6 X 5 X 4 = 120\n",
      "6 X 5 X 5 = 150\n",
      "6 X 5 X 6 = 180\n",
      "6 X 5 X 7 = 210\n",
      "6 X 6 X 3 = 108\n",
      "6 X 6 X 4 = 144\n",
      "6 X 6 X 5 = 180\n",
      "6 X 6 X 6 = 216\n",
      "6 X 6 X 7 = 252\n",
      "6 X 7 X 3 = 126\n",
      "6 X 7 X 4 = 168\n",
      "6 X 7 X 5 = 210\n",
      "6 X 7 X 6 = 252\n",
      "6 X 7 X 7 = 294\n",
      "6 X 8 X 3 = 144\n",
      "6 X 8 X 4 = 192\n",
      "6 X 8 X 5 = 240\n",
      "6 X 8 X 6 = 288\n",
      "6 X 8 X 7 = 336\n",
      "7 X 2 X 3 = 42\n",
      "7 X 2 X 4 = 56\n",
      "7 X 2 X 5 = 70\n",
      "7 X 2 X 6 = 84\n",
      "7 X 2 X 7 = 98\n",
      "7 X 3 X 3 = 63\n",
      "7 X 3 X 4 = 84\n",
      "7 X 3 X 5 = 105\n",
      "7 X 3 X 6 = 126\n",
      "7 X 3 X 7 = 147\n",
      "7 X 4 X 3 = 84\n",
      "7 X 4 X 4 = 112\n",
      "7 X 4 X 5 = 140\n",
      "7 X 4 X 6 = 168\n",
      "7 X 4 X 7 = 196\n",
      "7 X 5 X 3 = 105\n",
      "7 X 5 X 4 = 140\n",
      "7 X 5 X 5 = 175\n",
      "7 X 5 X 6 = 210\n",
      "7 X 5 X 7 = 245\n",
      "7 X 6 X 3 = 126\n",
      "7 X 6 X 4 = 168\n",
      "7 X 6 X 5 = 210\n",
      "7 X 6 X 6 = 252\n",
      "7 X 6 X 7 = 294\n",
      "7 X 7 X 3 = 147\n",
      "7 X 7 X 4 = 196\n",
      "7 X 7 X 5 = 245\n",
      "7 X 7 X 6 = 294\n",
      "7 X 7 X 7 = 343\n",
      "7 X 8 X 3 = 168\n",
      "7 X 8 X 4 = 224\n",
      "7 X 8 X 5 = 280\n",
      "7 X 8 X 6 = 336\n",
      "7 X 8 X 7 = 392\n",
      "8 X 2 X 3 = 48\n",
      "8 X 2 X 4 = 64\n",
      "8 X 2 X 5 = 80\n",
      "8 X 2 X 6 = 96\n",
      "8 X 2 X 7 = 112\n",
      "8 X 3 X 3 = 72\n",
      "8 X 3 X 4 = 96\n",
      "8 X 3 X 5 = 120\n",
      "8 X 3 X 6 = 144\n",
      "8 X 3 X 7 = 168\n",
      "8 X 4 X 3 = 96\n",
      "8 X 4 X 4 = 128\n",
      "8 X 4 X 5 = 160\n",
      "8 X 4 X 6 = 192\n",
      "8 X 4 X 7 = 224\n",
      "8 X 5 X 3 = 120\n",
      "8 X 5 X 4 = 160\n",
      "8 X 5 X 5 = 200\n",
      "8 X 5 X 6 = 240\n",
      "8 X 5 X 7 = 280\n",
      "8 X 6 X 3 = 144\n",
      "8 X 6 X 4 = 192\n",
      "8 X 6 X 5 = 240\n",
      "8 X 6 X 6 = 288\n",
      "8 X 6 X 7 = 336\n",
      "8 X 7 X 3 = 168\n",
      "8 X 7 X 4 = 224\n",
      "8 X 7 X 5 = 280\n",
      "8 X 7 X 6 = 336\n",
      "8 X 7 X 7 = 392\n",
      "8 X 8 X 3 = 192\n",
      "8 X 8 X 4 = 256\n",
      "8 X 8 X 5 = 320\n",
      "8 X 8 X 6 = 384\n",
      "8 X 8 X 7 = 448\n",
      "9 X 2 X 3 = 54\n",
      "9 X 2 X 4 = 72\n",
      "9 X 2 X 5 = 90\n",
      "9 X 2 X 6 = 108\n",
      "9 X 2 X 7 = 126\n",
      "9 X 3 X 3 = 81\n",
      "9 X 3 X 4 = 108\n",
      "9 X 3 X 5 = 135\n",
      "9 X 3 X 6 = 162\n",
      "9 X 3 X 7 = 189\n",
      "9 X 4 X 3 = 108\n",
      "9 X 4 X 4 = 144\n",
      "9 X 4 X 5 = 180\n",
      "9 X 4 X 6 = 216\n",
      "9 X 4 X 7 = 252\n",
      "9 X 5 X 3 = 135\n",
      "9 X 5 X 4 = 180\n",
      "9 X 5 X 5 = 225\n",
      "9 X 5 X 6 = 270\n",
      "9 X 5 X 7 = 315\n",
      "9 X 6 X 3 = 162\n",
      "9 X 6 X 4 = 216\n",
      "9 X 6 X 5 = 270\n",
      "9 X 6 X 6 = 324\n",
      "9 X 6 X 7 = 378\n",
      "9 X 7 X 3 = 189\n",
      "9 X 7 X 4 = 252\n",
      "9 X 7 X 5 = 315\n",
      "9 X 7 X 6 = 378\n",
      "9 X 7 X 7 = 441\n",
      "9 X 8 X 3 = 216\n",
      "9 X 8 X 4 = 288\n",
      "9 X 8 X 5 = 360\n",
      "9 X 8 X 6 = 432\n",
      "9 X 8 X 7 = 504\n"
     ]
    }
   ],
   "source": [
    "#3개 곱하기\n",
    "\n",
    "for i in range(2,10):\n",
    "    for j in range(2,9):\n",
    "        for k in range(3,8):\n",
    "            print(i,\"X\",j,\"X\",k,\"=\",i*j*k)\n"
   ]
  },
  {
   "cell_type": "code",
   "execution_count": 224,
   "id": "a47c9898",
   "metadata": {},
   "outputs": [
    {
     "name": "stdout",
     "output_type": "stream",
     "text": [
      "38\n",
      "출력한다: 8\n"
     ]
    }
   ],
   "source": [
    "#16. 함수 람다식\n",
    "\n",
    "\n",
    "# def 함수명(매개변수):\n",
    "    #실행코드\n",
    "    #return\n",
    "    \n",
    "    \n",
    "def test(a,b,c):\n",
    "    return a+b*c\n",
    "\n",
    "print(test(3,5,7))\n",
    "\n",
    "def test1(a,b,c):\n",
    "    print(\"출력한다:\",a+b*c)\n",
    "\n",
    "test1(2,2,3)\n"
   ]
  },
  {
   "cell_type": "code",
   "execution_count": 235,
   "id": "0e6e53a7",
   "metadata": {},
   "outputs": [
    {
     "name": "stdout",
     "output_type": "stream",
     "text": [
      "9\n",
      "3\n",
      "18\n",
      "2.0\n",
      "(9, 3, 18, 2.0)\n",
      "9 3 18 2.0\n"
     ]
    }
   ],
   "source": [
    "# 17. 함수로 계산기 쳐만들기\n",
    "\n",
    "\n",
    "def brain(a,b):\n",
    "    add_brain = a+b\n",
    "    sub_brain = a-b\n",
    "    triple_brain = a*b\n",
    "    didive_brain = a/b\n",
    "    return add_brain,sub_brain,triple_brain,didive_brain\n",
    "\n",
    "\n",
    "x,y,z,k = brain(6,3)\n",
    "\n",
    "print(x)\n",
    "print(y)\n",
    "print(z)\n",
    "print(k)\n",
    "\n",
    "print(brain(6,3))\n",
    "print(x,y,z,k)"
   ]
  },
  {
   "cell_type": "code",
   "execution_count": 2,
   "id": "c97d5eb1",
   "metadata": {},
   "outputs": [
    {
     "name": "stdout",
     "output_type": "stream",
     "text": [
      "[7, 9, 11, 13, 15]\n"
     ]
    }
   ],
   "source": [
    "def add(a, b):\n",
    "    return a + b\n",
    "\n",
    "list1 = [1, 2, 3, 4, 5]\n",
    "list2 = [6, 7, 8, 9, 10]\n",
    "\n",
    "result = map(add, list1, list2)\n",
    "\n",
    "print(list(result))"
   ]
  },
  {
   "cell_type": "code",
   "execution_count": 3,
   "id": "96018c4d",
   "metadata": {},
   "outputs": [
    {
     "name": "stdout",
     "output_type": "stream",
     "text": [
      "[6, 14, 24, 36, 50]\n"
     ]
    }
   ],
   "source": [
    "\n",
    "list1 =[1,2,3,4,5]\n",
    "list2= [6,7,8,9,10]\n",
    "\n",
    "result = map(lambda a,b: a+b, list1,list2)\n",
    "\n",
    "result = map(lambda a,b: a*b, list1, list2)\n",
    "\n",
    "print(list(result))"
   ]
  },
  {
   "cell_type": "code",
   "execution_count": 4,
   "id": "56efdbce",
   "metadata": {},
   "outputs": [
    {
     "name": "stdout",
     "output_type": "stream",
     "text": [
      "[('가로등', 300), ('미영증', 200), ('홍길동', 100)]\n"
     ]
    }
   ],
   "source": [
    "## 성적 순서대로 정렬하기 lambda \n",
    "\n",
    "\n",
    "array = [(\"홍길동\",100),(\"미영증\",200),(\"가로등\",300)]\n",
    "\n",
    "result = sorted(array, key=lambda x:x[1], reverse=True )  ## x:x[1] 2번째보다 크게 정렬\n",
    "\n",
    "print(result)"
   ]
  },
  {
   "cell_type": "code",
   "execution_count": 1,
   "id": "b9f89e16",
   "metadata": {},
   "outputs": [
    {
     "name": "stdout",
     "output_type": "stream",
     "text": [
      "7\n",
      "42\n"
     ]
    }
   ],
   "source": [
    "import math\n",
    "\n",
    "\n",
    "def lcm(a,b):\n",
    "    return a*b // math.gcd(a,b)\n",
    "\n",
    "\n",
    "math.gcd(21,14)   ## 최대공약수 gcd\n",
    "\n",
    "\n",
    "print(math.gcd(21,14))\n",
    "print(lcm(21,14))\n",
    "\n",
    "\n"
   ]
  },
  {
   "cell_type": "code",
   "execution_count": null,
   "id": "58cd3fd5",
   "metadata": {},
   "outputs": [],
   "source": []
  },
  {
   "cell_type": "code",
   "execution_count": null,
   "id": "9e8dcf28",
   "metadata": {},
   "outputs": [],
   "source": []
  },
  {
   "cell_type": "code",
   "execution_count": null,
   "id": "67b06a73",
   "metadata": {},
   "outputs": [],
   "source": []
  }
 ],
 "metadata": {
  "kernelspec": {
   "display_name": "Python 3 (ipykernel)",
   "language": "python",
   "name": "python3"
  },
  "language_info": {
   "codemirror_mode": {
    "name": "ipython",
    "version": 3
   },
   "file_extension": ".py",
   "mimetype": "text/x-python",
   "name": "python",
   "nbconvert_exporter": "python",
   "pygments_lexer": "ipython3",
   "version": "3.11.5"
  }
 },
 "nbformat": 4,
 "nbformat_minor": 5
}
