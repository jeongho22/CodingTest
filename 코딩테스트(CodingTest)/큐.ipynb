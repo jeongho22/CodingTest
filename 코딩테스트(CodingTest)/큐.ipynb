{
 "cells": [
  {
   "cell_type": "code",
   "execution_count": 38,
   "id": "598cb3d1",
   "metadata": {},
   "outputs": [],
   "source": [
    "#    가장먼저 넣은 데이터가 가장먼저나옴(선입선출FIFO)\n",
    "\n",
    "# 1\n",
    "# 21\n",
    "# 321\n",
    "# 4321\n",
    "# 54321\n",
    "# 진행방향은 ->\n",
    "# 5432\n",
    "# 543\n",
    "# 54\n",
    "# 5\n",
    "\n",
    "queue_list = list()\n",
    "\n",
    "def enqueue(data):\n",
    "    queue_list.append(data)\n",
    "    \n",
    "#     데이터 추가\n",
    "    \n",
    "def dequeue():\n",
    "    data = queue_list[0]  \n",
    "#     첫번째들어온 데이터 \n",
    "    del queue_list[0]     \n",
    "#     삭제\n",
    "    return data "
   ]
  },
  {
   "cell_type": "code",
   "execution_count": 39,
   "id": "2e8ee789",
   "metadata": {},
   "outputs": [],
   "source": [
    "for i in range(10):\n",
    "    enqueue(i)\n",
    "    \n",
    "# 10개생성"
   ]
  },
  {
   "cell_type": "code",
   "execution_count": 40,
   "id": "cfed80de",
   "metadata": {},
   "outputs": [
    {
     "data": {
      "text/plain": [
       "10"
      ]
     },
     "execution_count": 40,
     "metadata": {},
     "output_type": "execute_result"
    }
   ],
   "source": [
    "len(queue_list) \n",
    "\n",
    "# 갯수"
   ]
  },
  {
   "cell_type": "code",
   "execution_count": 41,
   "id": "8ef36892",
   "metadata": {},
   "outputs": [
    {
     "name": "stdout",
     "output_type": "stream",
     "text": [
      "[0, 1, 2, 3, 4, 5, 6, 7, 8, 9]\n"
     ]
    }
   ],
   "source": [
    "print(queue_list)"
   ]
  },
  {
   "cell_type": "code",
   "execution_count": 42,
   "id": "09f2ca4e",
   "metadata": {},
   "outputs": [
    {
     "data": {
      "text/plain": [
       "0"
      ]
     },
     "execution_count": 42,
     "metadata": {},
     "output_type": "execute_result"
    }
   ],
   "source": [
    "dequeue()"
   ]
  },
  {
   "cell_type": "code",
   "execution_count": 43,
   "id": "f4016536",
   "metadata": {},
   "outputs": [
    {
     "name": "stdout",
     "output_type": "stream",
     "text": [
      "[1, 2, 3, 4, 5, 6, 7, 8, 9]\n"
     ]
    }
   ],
   "source": [
    "print(queue_list)"
   ]
  },
  {
   "cell_type": "code",
   "execution_count": null,
   "id": "708c222d",
   "metadata": {},
   "outputs": [],
   "source": []
  }
 ],
 "metadata": {
  "kernelspec": {
   "display_name": "Python 3 (ipykernel)",
   "language": "python",
   "name": "python3"
  },
  "language_info": {
   "codemirror_mode": {
    "name": "ipython",
    "version": 3
   },
   "file_extension": ".py",
   "mimetype": "text/x-python",
   "name": "python",
   "nbconvert_exporter": "python",
   "pygments_lexer": "ipython3",
   "version": "3.11.5"
  }
 },
 "nbformat": 4,
 "nbformat_minor": 5
}
